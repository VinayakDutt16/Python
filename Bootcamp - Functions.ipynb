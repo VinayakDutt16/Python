{
 "cells": [
  {
   "cell_type": "markdown",
   "id": "de6ca721",
   "metadata": {},
   "source": [
    "# functions :"
   ]
  },
  {
   "cell_type": "markdown",
   "id": "114b323f",
   "metadata": {},
   "source": [
    "## how we pass immutable and mutable datatype"
   ]
  },
  {
   "cell_type": "markdown",
   "id": "3d416659",
   "metadata": {},
   "source": [
    "# Types of arguments in a function:\n",
    "required\n",
    "\n",
    "positional\n",
    "\n",
    "keyword\n",
    "\n",
    "default\n",
    "\n",
    "Variable length argument"
   ]
  },
  {
   "cell_type": "code",
   "execution_count": 1,
   "id": "950941d1",
   "metadata": {},
   "outputs": [
    {
     "name": "stdout",
     "output_type": "stream",
     "text": [
      "aman hello\n"
     ]
    }
   ],
   "source": [
    "# Type hinting\n",
    "\n",
    "def details(name, orders:list=[]):\n",
    "    print(name,orders)\n",
    "details(\"aman\",\"hello\")"
   ]
  },
  {
   "cell_type": "code",
   "execution_count": 3,
   "id": "af4fb40c",
   "metadata": {},
   "outputs": [
    {
     "name": "stdout",
     "output_type": "stream",
     "text": [
      "{'name': 'tushar', 'orderlist': ['tushar']}\n",
      "{'name': 'aman', 'orderlist': ['tushar', 'aman']}\n"
     ]
    }
   ],
   "source": [
    "def details(name,orders = []):\n",
    "    orders.append(name)\n",
    "    return {\"name\":name,\n",
    "           \"orderlist\":orders}\n",
    "a1 = details(\"tushar\")\n",
    "print(a1)\n",
    "a2 = details(\"aman\")\n",
    "print(a2)"
   ]
  },
  {
   "cell_type": "code",
   "execution_count": 4,
   "id": "1c2d674f",
   "metadata": {},
   "outputs": [
    {
     "name": "stdout",
     "output_type": "stream",
     "text": [
      "(10, 20, 30, 40)\n"
     ]
    }
   ],
   "source": [
    "# Variable length argument\n",
    "\n",
    "def func(*args):\n",
    "    print(args)\n",
    "    \n",
    "func(10,20,30,40)\n",
    "\n",
    "# Note args always returns a tuple"
   ]
  },
  {
   "cell_type": "code",
   "execution_count": 6,
   "id": "863dc527",
   "metadata": {},
   "outputs": [
    {
     "name": "stdout",
     "output_type": "stream",
     "text": [
      "{'age': '10', 'salary': '100000'}\n"
     ]
    }
   ],
   "source": [
    "\n",
    "def func(**kargs):\n",
    "    print(kargs)\n",
    "    \n",
    "func(age='10',salary=\"100000\")\n",
    "\n",
    "\n",
    "#Note Kwargs always returns a dictionary"
   ]
  },
  {
   "cell_type": "markdown",
   "id": "6db9dd1a",
   "metadata": {},
   "source": [
    "# Triangle Number Pattern"
   ]
  },
  {
   "cell_type": "code",
   "execution_count": 87,
   "id": "e81c292c",
   "metadata": {},
   "outputs": [
    {
     "name": "stdout",
     "output_type": "stream",
     "text": [
      "7  6  5  4  3  2  1  \n",
      "6  5  4  3  2  1  \n",
      "5  4  3  2  1  \n",
      "4  3  2  1  \n",
      "3  2  1  \n",
      "2  1  \n",
      "1  \n"
     ]
    }
   ],
   "source": [
    "def pattern(size):\n",
    "    for i in range(size, 0, -1):\n",
    "        print(i,\" \", end=\"\")\n",
    "    print(\"\")\n",
    "    if size > 1:\n",
    "        pattern(size - 1)\n",
    "\n",
    "pattern(7)\n"
   ]
  },
  {
   "cell_type": "code",
   "execution_count": 89,
   "id": "f7ff3292",
   "metadata": {},
   "outputs": [
    {
     "name": "stdout",
     "output_type": "stream",
     "text": [
      "123456\n",
      "6\n"
     ]
    }
   ],
   "source": [
    "# Total number of digits in number using a while Loop\n",
    "\n",
    "num = int(input(\"\"))\n",
    "count = 0\n",
    "while num !=0:\n",
    "    num = num//10\n",
    "    count = count + 1\n",
    "print(count)"
   ]
  },
  {
   "cell_type": "code",
   "execution_count": 36,
   "id": "cfc555d7",
   "metadata": {},
   "outputs": [
    {
     "name": "stdout",
     "output_type": "stream",
     "text": [
      "Enter the string : hhh\n",
      "h\n",
      "h\n",
      "h\n"
     ]
    }
   ],
   "source": [
    "# lower case in even posittion\n",
    "strn = input(\"Enter the string : \")\n",
    "for i in strn:\n",
    "    print(i)\n",
    "    count +=1"
   ]
  },
  {
   "cell_type": "markdown",
   "id": "9d6ce6df",
   "metadata": {},
   "source": [
    "# Write a program to print all prime number in a give range"
   ]
  },
  {
   "cell_type": "code",
   "execution_count": 46,
   "id": "738bef87",
   "metadata": {},
   "outputs": [
    {
     "name": "stdout",
     "output_type": "stream",
     "text": [
      "20\n",
      "60\n",
      "\n",
      "23\n",
      "29\n",
      "31\n",
      "37\n",
      "41\n",
      "43\n",
      "47\n",
      "53\n",
      "59\n"
     ]
    }
   ],
   "source": [
    "\n",
    "r1 = int(input(\"\"))\n",
    "r2 = int(input(\"\"))\n",
    "print(\"\")\n",
    "\n",
    "for num in range(r1, r2 + 1):\n",
    "    if num > 1:\n",
    "        for i in range(2, num):\n",
    "            if (num % i) == 0:\n",
    "                break\n",
    "        else:\n",
    "            print(num)"
   ]
  },
  {
   "cell_type": "code",
   "execution_count": null,
   "id": "f6106ef4",
   "metadata": {},
   "outputs": [],
   "source": []
  },
  {
   "cell_type": "code",
   "execution_count": 83,
   "id": "ea6496a6",
   "metadata": {},
   "outputs": [
    {
     "name": "stdout",
     "output_type": "stream",
     "text": [
      "Enter the string :hello\n",
      "The Occurence of each character in string :\n",
      "{'h': 1, 'e': 1, 'l': 2, 'o': 1}\n"
     ]
    }
   ],
   "source": [
    "# Counting Occurences of each character in the sring \n",
    "\n",
    "str = input(\"Enter the string :\")\n",
    "l = list(str)\n",
    "freq = [l.count(ele) for ele in l]\n",
    "d = dict(zip(l,freq))\n",
    "print(\"The Occurence of each character in string :\")\n",
    "print(d)"
   ]
  },
  {
   "cell_type": "code",
   "execution_count": 84,
   "id": "2e460284",
   "metadata": {},
   "outputs": [
    {
     "name": "stdout",
     "output_type": "stream",
     "text": [
      "Enter the string: hello\n",
      "The Occurrence of each character in the string:\n",
      "Counter({'l': 2, 'h': 1, 'e': 1, 'o': 1})\n"
     ]
    }
   ],
   "source": [
    "from collections import Counter\n",
    "\n",
    "str_input = input(\"Enter the string: \")\n",
    "character_counts = Counter(str_input)\n",
    "\n",
    "print(\"The Occurrence of each character in the string:\")\n",
    "print(character_counts)\n"
   ]
  },
  {
   "cell_type": "code",
   "execution_count": 99,
   "id": "f820321e",
   "metadata": {},
   "outputs": [
    {
     "name": "stdout",
     "output_type": "stream",
     "text": [
      "Enter the string :hello world\n",
      "hElLo wOrLd\n"
     ]
    }
   ],
   "source": [
    "# Odd --> uppercase , Even --> lowercase\n",
    "str = input(\"Enter the string :\")\n",
    "l = list(str)\n",
    "for i in range(0,len(str)):\n",
    "    if(i%2!=0):\n",
    "        l[i] = l[i].upper()\n",
    "    else:\n",
    "        l[i] = l[i].lower()\n",
    "New_str = ''.join(l)\n",
    "print(New_str)"
   ]
  },
  {
   "cell_type": "code",
   "execution_count": 117,
   "id": "fcd974fe",
   "metadata": {},
   "outputs": [
    {
     "name": "stdout",
     "output_type": "stream",
     "text": [
      "Enter a string :hello world\n"
     ]
    }
   ],
   "source": [
    "# Program to convert the first letter of string and last letter of string in uppercase\n",
    "\n",
    "str = input(\"Enter a string :\")\n",
    "new_str = str.split(\" \")\n",
    "# print(new_str)\n",
    "h = []\n",
    "for i in range(0,len(new_str)):\n",
    "    h = list(new_str[i])"
   ]
  },
  {
   "cell_type": "code",
   "execution_count": 118,
   "id": "bc36e2bc",
   "metadata": {},
   "outputs": [
    {
     "data": {
      "text/plain": [
       "['hello', 'world']"
      ]
     },
     "execution_count": 118,
     "metadata": {},
     "output_type": "execute_result"
    }
   ],
   "source": [
    "new_str"
   ]
  },
  {
   "cell_type": "code",
   "execution_count": 119,
   "id": "7835c4f0",
   "metadata": {},
   "outputs": [],
   "source": [
    "h = list(new_str)"
   ]
  },
  {
   "cell_type": "code",
   "execution_count": 120,
   "id": "1d8432cc",
   "metadata": {},
   "outputs": [
    {
     "data": {
      "text/plain": [
       "['hello', 'world']"
      ]
     },
     "execution_count": 120,
     "metadata": {},
     "output_type": "execute_result"
    }
   ],
   "source": [
    "h"
   ]
  },
  {
   "cell_type": "code",
   "execution_count": null,
   "id": "12066d41",
   "metadata": {},
   "outputs": [],
   "source": []
  }
 ],
 "metadata": {
  "kernelspec": {
   "display_name": "Python 3 (ipykernel)",
   "language": "python",
   "name": "python3"
  },
  "language_info": {
   "codemirror_mode": {
    "name": "ipython",
    "version": 3
   },
   "file_extension": ".py",
   "mimetype": "text/x-python",
   "name": "python",
   "nbconvert_exporter": "python",
   "pygments_lexer": "ipython3",
   "version": "3.11.4"
  }
 },
 "nbformat": 4,
 "nbformat_minor": 5
}
