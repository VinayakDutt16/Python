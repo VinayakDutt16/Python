{
 "cells": [
  {
   "cell_type": "code",
   "execution_count": 1,
   "id": "3f4e18d0",
   "metadata": {},
   "outputs": [],
   "source": [
    "# decorator "
   ]
  },
  {
   "cell_type": "code",
   "execution_count": 2,
   "id": "ca7a8955",
   "metadata": {},
   "outputs": [
    {
     "name": "stdout",
     "output_type": "stream",
     "text": [
      "hey\n"
     ]
    }
   ],
   "source": [
    "def regex():\n",
    "    def tushar():\n",
    "        print(\"hey\")\n",
    "        \n",
    "    tushar()\n",
    "regex()"
   ]
  },
  {
   "cell_type": "code",
   "execution_count": 4,
   "id": "ca2b7819",
   "metadata": {},
   "outputs": [
    {
     "name": "stdout",
     "output_type": "stream",
     "text": [
      "<function regex.<locals>.tushar at 0x000001FB4A9232E0>\n"
     ]
    }
   ],
   "source": [
    "def regex():\n",
    "    def tushar():\n",
    "        print(\"hey\")\n",
    "        \n",
    "    return tushar\n",
    "x = regex()\n",
    "print(x)"
   ]
  },
  {
   "cell_type": "code",
   "execution_count": 5,
   "id": "cfd39dd2",
   "metadata": {},
   "outputs": [
    {
     "name": "stdout",
     "output_type": "stream",
     "text": [
      "<function regex.<locals>.tushar at 0x000001FB4A9236A0>\n",
      "hey\n"
     ]
    }
   ],
   "source": [
    "def regex():\n",
    "    def tushar():\n",
    "        print(\"hey\")\n",
    "        \n",
    "    return tushar\n",
    "x = regex()\n",
    "print(x)\n",
    "x()"
   ]
  },
  {
   "cell_type": "code",
   "execution_count": 7,
   "id": "43f7134a",
   "metadata": {},
   "outputs": [
    {
     "name": "stdout",
     "output_type": "stream",
     "text": [
      "hey 10\n"
     ]
    }
   ],
   "source": [
    "def regex(num):\n",
    "    def tushar():\n",
    "        print(\"hey\",num)\n",
    "        \n",
    "    return tushar\n",
    "x = regex(10)\n",
    "x()"
   ]
  },
  {
   "cell_type": "code",
   "execution_count": 9,
   "id": "d3aa1fce",
   "metadata": {},
   "outputs": [
    {
     "name": "stdout",
     "output_type": "stream",
     "text": [
      "hey 10\n"
     ]
    }
   ],
   "source": [
    "def regex(num):\n",
    "    def tushar():\n",
    "        print(\"hey\",num)\n",
    "        \n",
    "    return tushar\n",
    "def vinayak():\n",
    "    print(\"hi this is vinayak\")\n",
    "vinayak = regex(10)\n",
    "vinayak()\n",
    "# x = regex(10)\n",
    "# x()"
   ]
  },
  {
   "cell_type": "code",
   "execution_count": 11,
   "id": "5658513a",
   "metadata": {},
   "outputs": [
    {
     "name": "stdout",
     "output_type": "stream",
     "text": [
      "hey\n",
      "hi this is vinayak\n"
     ]
    }
   ],
   "source": [
    "def regex(num):\n",
    "    def tushar():\n",
    "        print(\"hey\")\n",
    "        num()\n",
    "    return tushar\n",
    "\n",
    "@regex # Decorator which will wrap a function \n",
    "def vinayak():\n",
    "    print(\"hi this is vinayak\")\n",
    "\n",
    "vinayak()\n",
    "# x = regex(10)\n",
    "# x()"
   ]
  },
  {
   "cell_type": "code",
   "execution_count": null,
   "id": "2ba54e50",
   "metadata": {},
   "outputs": [],
   "source": []
  }
 ],
 "metadata": {
  "kernelspec": {
   "display_name": "Python 3 (ipykernel)",
   "language": "python",
   "name": "python3"
  },
  "language_info": {
   "codemirror_mode": {
    "name": "ipython",
    "version": 3
   },
   "file_extension": ".py",
   "mimetype": "text/x-python",
   "name": "python",
   "nbconvert_exporter": "python",
   "pygments_lexer": "ipython3",
   "version": "3.11.4"
  }
 },
 "nbformat": 4,
 "nbformat_minor": 5
}
