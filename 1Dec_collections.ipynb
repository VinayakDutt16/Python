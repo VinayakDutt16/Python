{
 "cells": [
  {
   "cell_type": "code",
   "execution_count": 1,
   "id": "6bcdcbd2",
   "metadata": {},
   "outputs": [],
   "source": [
    "# iterator generator\n",
    "# recursion\n",
    "# decorators\n",
    "\n"
   ]
  },
  {
   "cell_type": "code",
   "execution_count": 2,
   "id": "80c1341a",
   "metadata": {},
   "outputs": [],
   "source": [
    "# decorator"
   ]
  },
  {
   "cell_type": "code",
   "execution_count": 14,
   "id": "8007bbd9",
   "metadata": {},
   "outputs": [
    {
     "name": "stdout",
     "output_type": "stream",
     "text": [
      "hey\n",
      "hey this is rajendra here\n"
     ]
    }
   ],
   "source": [
    "def regex(num):\n",
    "    def  tushar():\n",
    "        print(\"hey\") \n",
    "        num()\n",
    "    return tushar\n",
    "\n",
    "@regex\n",
    "def  rajendra():\n",
    "    print(\"hey this is rajendra here\")\n",
    "\n",
    "    \n",
    "rajendra()\n",
    "    \n",
    "# rajendra = regex(rajendra)\n",
    "# rajendra()\n",
    "\n",
    "# x=regex(10)\n",
    "# x()"
   ]
  },
  {
   "cell_type": "code",
   "execution_count": 15,
   "id": "3b45df95",
   "metadata": {},
   "outputs": [],
   "source": [
    "from collections import Counter"
   ]
  },
  {
   "cell_type": "code",
   "execution_count": 16,
   "id": "6a714cfa",
   "metadata": {},
   "outputs": [
    {
     "data": {
      "text/plain": [
       "Counter({10: 3, 20: 2, 40: 1, 50: 1})"
      ]
     },
     "execution_count": 16,
     "metadata": {},
     "output_type": "execute_result"
    }
   ],
   "source": [
    "Counter( [10,10,10,20,40,50,20] )"
   ]
  },
  {
   "cell_type": "code",
   "execution_count": 18,
   "id": "7680fb11",
   "metadata": {},
   "outputs": [
    {
     "data": {
      "text/plain": [
       "Counter({'aBC': 20, 'XYZ': 10})"
      ]
     },
     "execution_count": 18,
     "metadata": {},
     "output_type": "execute_result"
    }
   ],
   "source": [
    "Counter( {\"XYZ\":10, \"aBC\":20} )"
   ]
  },
  {
   "cell_type": "code",
   "execution_count": 21,
   "id": "122572c3",
   "metadata": {},
   "outputs": [
    {
     "data": {
      "text/plain": [
       "Counter({'aBC': 20, 'XYZ': 10})"
      ]
     },
     "execution_count": 21,
     "metadata": {},
     "output_type": "execute_result"
    }
   ],
   "source": [
    "Counter( XYZ=10, aBC=20 )"
   ]
  },
  {
   "cell_type": "code",
   "execution_count": 28,
   "id": "1dcaffa3",
   "metadata": {},
   "outputs": [],
   "source": [
    "from collections import Counter\n",
    "\n",
    "count=Counter()\n",
    "\n",
    "count.update( [10,20,30,10,10] )"
   ]
  },
  {
   "cell_type": "code",
   "execution_count": 29,
   "id": "62dfb2ea",
   "metadata": {},
   "outputs": [
    {
     "data": {
      "text/plain": [
       "Counter({10: 3, 20: 1, 30: 1})"
      ]
     },
     "execution_count": 29,
     "metadata": {},
     "output_type": "execute_result"
    }
   ],
   "source": [
    "count"
   ]
  },
  {
   "cell_type": "code",
   "execution_count": 30,
   "id": "097b591d",
   "metadata": {},
   "outputs": [],
   "source": [
    "count.update({10:4} )"
   ]
  },
  {
   "cell_type": "code",
   "execution_count": 31,
   "id": "4dc72fdc",
   "metadata": {},
   "outputs": [
    {
     "data": {
      "text/plain": [
       "Counter({10: 7, 20: 1, 30: 1})"
      ]
     },
     "execution_count": 31,
     "metadata": {},
     "output_type": "execute_result"
    }
   ],
   "source": [
    "count"
   ]
  },
  {
   "cell_type": "code",
   "execution_count": 33,
   "id": "ae5bd55b",
   "metadata": {},
   "outputs": [],
   "source": [
    "count.subtract( [10])"
   ]
  },
  {
   "cell_type": "code",
   "execution_count": 35,
   "id": "7a826e6a",
   "metadata": {},
   "outputs": [
    {
     "data": {
      "text/plain": [
       "Counter({10: 5, 20: 1, 30: 1})"
      ]
     },
     "execution_count": 35,
     "metadata": {},
     "output_type": "execute_result"
    }
   ],
   "source": [
    "count"
   ]
  },
  {
   "cell_type": "code",
   "execution_count": 36,
   "id": "c89dac46",
   "metadata": {},
   "outputs": [],
   "source": [
    "from collections import OrderedDict  "
   ]
  },
  {
   "cell_type": "code",
   "execution_count": 42,
   "id": "4f85337a",
   "metadata": {},
   "outputs": [
    {
     "ename": "KeyError",
     "evalue": "'aaa'",
     "output_type": "error",
     "traceback": [
      "\u001b[1;31m---------------------------------------------------------------------------\u001b[0m",
      "\u001b[1;31mKeyError\u001b[0m                                  Traceback (most recent call last)",
      "Cell \u001b[1;32mIn[42], line 4\u001b[0m\n\u001b[0;32m      1\u001b[0m mydictionary\u001b[38;5;241m=\u001b[39m{\u001b[38;5;124m\"\u001b[39m\u001b[38;5;124ma\u001b[39m\u001b[38;5;124m\"\u001b[39m:\u001b[38;5;241m1\u001b[39m, \u001b[38;5;124m\"\u001b[39m\u001b[38;5;124mb\u001b[39m\u001b[38;5;124m\"\u001b[39m:\u001b[38;5;241m2\u001b[39m}\n\u001b[0;32m      2\u001b[0m mydictionary\u001b[38;5;241m.\u001b[39mitems()\n\u001b[1;32m----> 4\u001b[0m \u001b[43mmydictionary\u001b[49m\u001b[43m[\u001b[49m\u001b[38;5;124;43m\"\u001b[39;49m\u001b[38;5;124;43maaa\u001b[39;49m\u001b[38;5;124;43m\"\u001b[39;49m\u001b[43m]\u001b[49m\n",
      "\u001b[1;31mKeyError\u001b[0m: 'aaa'"
     ]
    }
   ],
   "source": [
    "mydictionary={\"a\":1, \"b\":2}\n",
    "mydictionary.items()\n",
    "\n",
    "mydictionary[\"aaa\"]"
   ]
  },
  {
   "cell_type": "code",
   "execution_count": 51,
   "id": "90bc6199",
   "metadata": {},
   "outputs": [
    {
     "data": {
      "text/plain": [
       "OrderedDict([('b', 2), ('a', 1)])"
      ]
     },
     "execution_count": 51,
     "metadata": {},
     "output_type": "execute_result"
    }
   ],
   "source": [
    "od = OrderedDict()  \n",
    "od['a'] = 1\n",
    "od['b'] = 2\n",
    "\n",
    "od.move_to_end(\"a\")\n",
    "\n",
    "od"
   ]
  },
  {
   "cell_type": "code",
   "execution_count": 43,
   "id": "3dc261dc",
   "metadata": {},
   "outputs": [],
   "source": [
    "from collections import defaultdict"
   ]
  },
  {
   "cell_type": "code",
   "execution_count": 44,
   "id": "cfcf4dd7",
   "metadata": {},
   "outputs": [],
   "source": [
    "def func():\n",
    "    return 100\n",
    "\n",
    "default_dictionary = defaultdict( func )\n",
    "default_dictionary[\"a\"]=10"
   ]
  },
  {
   "cell_type": "code",
   "execution_count": 45,
   "id": "22cff6dd",
   "metadata": {},
   "outputs": [
    {
     "data": {
      "text/plain": [
       "defaultdict(<function __main__.func()>, {'a': 10})"
      ]
     },
     "execution_count": 45,
     "metadata": {},
     "output_type": "execute_result"
    }
   ],
   "source": [
    "default_dictionary"
   ]
  },
  {
   "cell_type": "code",
   "execution_count": 47,
   "id": "86f90bec",
   "metadata": {},
   "outputs": [
    {
     "data": {
      "text/plain": [
       "10"
      ]
     },
     "execution_count": 47,
     "metadata": {},
     "output_type": "execute_result"
    }
   ],
   "source": [
    "default_dictionary[\"a\"]"
   ]
  },
  {
   "cell_type": "code",
   "execution_count": 52,
   "id": "0b2f17ef",
   "metadata": {},
   "outputs": [
    {
     "data": {
      "text/plain": [
       "100"
      ]
     },
     "execution_count": 52,
     "metadata": {},
     "output_type": "execute_result"
    }
   ],
   "source": [
    "default_dictionary[\"asdfasdfdas\"]"
   ]
  },
  {
   "cell_type": "code",
   "execution_count": null,
   "id": "872ac93c",
   "metadata": {},
   "outputs": [],
   "source": [
    "tuple1=()"
   ]
  },
  {
   "cell_type": "code",
   "execution_count": 53,
   "id": "b466d2a7",
   "metadata": {},
   "outputs": [],
   "source": [
    "from collections import namedtuple \n"
   ]
  },
  {
   "cell_type": "code",
   "execution_count": 54,
   "id": "5732862a",
   "metadata": {},
   "outputs": [],
   "source": [
    "nt_tuple = namedtuple(\"regex\",[\"name\",\"email\",\"salary\"] )"
   ]
  },
  {
   "cell_type": "code",
   "execution_count": 69,
   "id": "8d025232",
   "metadata": {},
   "outputs": [
    {
     "data": {
      "text/plain": [
       "__main__.regex"
      ]
     },
     "execution_count": 69,
     "metadata": {},
     "output_type": "execute_result"
    }
   ],
   "source": [
    "x=nt_tuple(\"vishweet\", \"vish@gmail.com\",100)"
   ]
  },
  {
   "cell_type": "code",
   "execution_count": 74,
   "id": "feb3a3f8",
   "metadata": {},
   "outputs": [
    {
     "data": {
      "text/plain": [
       "'vishweet'"
      ]
     },
     "execution_count": 74,
     "metadata": {},
     "output_type": "execute_result"
    }
   ],
   "source": [
    "nt_tuple._make(  [\"vishweet\", \"vish@gmail.com\",100]  ).name"
   ]
  },
  {
   "cell_type": "code",
   "execution_count": 77,
   "id": "5369581c",
   "metadata": {},
   "outputs": [
    {
     "data": {
      "text/plain": [
       "{'name': 'shivam', 'email': 'shivam@gmail.com', 'salary': 200}"
      ]
     },
     "execution_count": 77,
     "metadata": {},
     "output_type": "execute_result"
    }
   ],
   "source": [
    "emp2=nt_tuple._make( [\"shivam\",\"shivam@gmail.com\",200]  )\n",
    "emp2._asdict()"
   ]
  },
  {
   "cell_type": "code",
   "execution_count": 61,
   "id": "14c72383",
   "metadata": {},
   "outputs": [],
   "source": [
    "emp1= nt_tuple(\"tushar\",\"tushar@gmail.com\",100)"
   ]
  },
  {
   "cell_type": "code",
   "execution_count": 64,
   "id": "be34139a",
   "metadata": {},
   "outputs": [
    {
     "data": {
      "text/plain": [
       "'tushar'"
      ]
     },
     "execution_count": 64,
     "metadata": {},
     "output_type": "execute_result"
    }
   ],
   "source": [
    "emp1[0]"
   ]
  },
  {
   "cell_type": "code",
   "execution_count": 78,
   "id": "e3dedf5f",
   "metadata": {},
   "outputs": [
    {
     "data": {
      "text/plain": [
       "'tushar'"
      ]
     },
     "execution_count": 78,
     "metadata": {},
     "output_type": "execute_result"
    }
   ],
   "source": [
    "emp1.name"
   ]
  },
  {
   "cell_type": "code",
   "execution_count": 79,
   "id": "b584a505",
   "metadata": {},
   "outputs": [],
   "source": [
    "from  collections import deque"
   ]
  },
  {
   "cell_type": "code",
   "execution_count": 81,
   "id": "6178175b",
   "metadata": {},
   "outputs": [],
   "source": [
    "d1=deque([10,20,30])"
   ]
  },
  {
   "cell_type": "code",
   "execution_count": 82,
   "id": "265292b5",
   "metadata": {},
   "outputs": [],
   "source": [
    "d1.append(40)"
   ]
  },
  {
   "cell_type": "code",
   "execution_count": 84,
   "id": "625a5fe4",
   "metadata": {},
   "outputs": [
    {
     "data": {
      "text/plain": [
       "deque([10, 20, 30, 40])"
      ]
     },
     "execution_count": 84,
     "metadata": {},
     "output_type": "execute_result"
    }
   ],
   "source": [
    "d1"
   ]
  },
  {
   "cell_type": "code",
   "execution_count": 85,
   "id": "419318c2",
   "metadata": {},
   "outputs": [],
   "source": [
    "d1.appendleft(660)"
   ]
  },
  {
   "cell_type": "code",
   "execution_count": 87,
   "id": "d2bc73e0",
   "metadata": {},
   "outputs": [
    {
     "data": {
      "text/plain": [
       "deque([660, 10, 20, 30, 40])"
      ]
     },
     "execution_count": 87,
     "metadata": {},
     "output_type": "execute_result"
    }
   ],
   "source": [
    "d1"
   ]
  },
  {
   "cell_type": "code",
   "execution_count": 89,
   "id": "7aa39126",
   "metadata": {},
   "outputs": [],
   "source": [
    "d1.insert(2,\"Abc\")"
   ]
  },
  {
   "cell_type": "code",
   "execution_count": 91,
   "id": "665f1944",
   "metadata": {},
   "outputs": [
    {
     "data": {
      "text/plain": [
       "660"
      ]
     },
     "execution_count": 91,
     "metadata": {},
     "output_type": "execute_result"
    }
   ],
   "source": [
    "d1[0]"
   ]
  }
 ],
 "metadata": {
  "kernelspec": {
   "display_name": "Python 3 (ipykernel)",
   "language": "python",
   "name": "python3"
  },
  "language_info": {
   "codemirror_mode": {
    "name": "ipython",
    "version": 3
   },
   "file_extension": ".py",
   "mimetype": "text/x-python",
   "name": "python",
   "nbconvert_exporter": "python",
   "pygments_lexer": "ipython3",
   "version": "3.10.11"
  }
 },
 "nbformat": 4,
 "nbformat_minor": 5
}
