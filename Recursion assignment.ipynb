{
 "cells": [
  {
   "cell_type": "code",
   "execution_count": 1,
   "id": "84b7b660",
   "metadata": {},
   "outputs": [],
   "source": [
    "# find out wether the given two number is coprime or not\n",
    "# find out the LCM of two numbers\n",
    "# Find out the LCM of three numbers"
   ]
  },
  {
   "cell_type": "code",
   "execution_count": 2,
   "id": "3997f2c4",
   "metadata": {},
   "outputs": [
    {
     "name": "stdout",
     "output_type": "stream",
     "text": [
      "15 and 28 are coprime.\n"
     ]
    }
   ],
   "source": [
    "def gcd_recursive(a, b):\n",
    "    if b == 0:\n",
    "        return a\n",
    "    else:\n",
    "        return gcd_recursive(b, a % b)\n",
    "\n",
    "def are_coprime_recursive(a, b):\n",
    "    return gcd_recursive(a, b) == 1\n",
    "\n",
    "num1 = 15\n",
    "num2 = 28\n",
    "\n",
    "if are_coprime_recursive(num1, num2):\n",
    "    print(f\"{num1} and {num2} are coprime.\")\n",
    "else:\n",
    "    print(f\"{num1} and {num2} are not coprime.\")\n"
   ]
  },
  {
   "cell_type": "code",
   "execution_count": 3,
   "id": "c7b29dab",
   "metadata": {},
   "outputs": [
    {
     "name": "stdout",
     "output_type": "stream",
     "text": [
      "LCM of 12 and 18 is 36.\n"
     ]
    }
   ],
   "source": [
    "def lcm_recursive(a, b):\n",
    "    return abs(a * b) // gcd_recursive(a, b)\n",
    "\n",
    "\n",
    "num1 = 12\n",
    "num2 = 18\n",
    "\n",
    "result_lcm = lcm_recursive(num1, num2)\n",
    "print(f\"LCM of {num1} and {num2} is {result_lcm}.\")\n"
   ]
  },
  {
   "cell_type": "code",
   "execution_count": 4,
   "id": "24c13f71",
   "metadata": {},
   "outputs": [
    {
     "name": "stdout",
     "output_type": "stream",
     "text": [
      "LCM of 4, 6, and 8 is 24.\n"
     ]
    }
   ],
   "source": [
    "def lcm_of_three_recursive(a, b, c):\n",
    "    lcm_ab = lcm_recursive(a, b)\n",
    "    lcm_abc = lcm_recursive(lcm_ab, c)\n",
    "    return lcm_abc\n",
    "\n",
    "# Example usage:\n",
    "num1 = 4\n",
    "num2 = 6\n",
    "num3 = 8\n",
    "\n",
    "result_lcm_three = lcm_of_three_recursive(num1, num2, num3)\n",
    "print(f\"LCM of {num1}, {num2}, and {num3} is {result_lcm_three}.\")\n"
   ]
  },
  {
   "cell_type": "code",
   "execution_count": null,
   "id": "c4bf3b91",
   "metadata": {},
   "outputs": [],
   "source": []
  }
 ],
 "metadata": {
  "kernelspec": {
   "display_name": "Python 3 (ipykernel)",
   "language": "python",
   "name": "python3"
  },
  "language_info": {
   "codemirror_mode": {
    "name": "ipython",
    "version": 3
   },
   "file_extension": ".py",
   "mimetype": "text/x-python",
   "name": "python",
   "nbconvert_exporter": "python",
   "pygments_lexer": "ipython3",
   "version": "3.11.4"
  }
 },
 "nbformat": 4,
 "nbformat_minor": 5
}
