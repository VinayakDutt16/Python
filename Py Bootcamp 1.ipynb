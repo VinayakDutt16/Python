{
 "cells": [
  {
   "cell_type": "code",
   "execution_count": 7,
   "id": "2ee44d64",
   "metadata": {},
   "outputs": [
    {
     "name": "stdout",
     "output_type": "stream",
     "text": [
      "b is minimum\n"
     ]
    }
   ],
   "source": [
    "a = 10\n",
    "b = 2\n",
    "c = 30\n",
    "d = 5\n",
    "if(a<b and a<c and a<d):\n",
    "    print(\"a is minimum\")\n",
    "elif(b<a and b<c and b<d):\n",
    "    print(\"b is minimum\")\n",
    "elif(c<a and c<b and c<d):\n",
    "    print(\"c is minimum\")\n",
    "else:\n",
    "    print(\"d is minimum\")"
   ]
  },
  {
   "cell_type": "code",
   "execution_count": 12,
   "id": "7a8c20bb",
   "metadata": {},
   "outputs": [
    {
     "name": "stdout",
     "output_type": "stream",
     "text": [
      "It's an armstrong number\n"
     ]
    }
   ],
   "source": [
    "# armstrong number\n",
    "\n",
    "num = 153\n",
    "n3 = num % 10\n",
    "n = num // 10\n",
    "n2 = n % 10 \n",
    "n1 = n // 10\n",
    "if((n1**3) + (n2**3) + (n3**3) == num):\n",
    "    print(\"It's an armstrong number\")\n",
    "else:\n",
    "    print(\"Not an armstrong number\")"
   ]
  },
  {
   "cell_type": "code",
   "execution_count": 18,
   "id": "a0a09951",
   "metadata": {},
   "outputs": [
    {
     "name": "stdout",
     "output_type": "stream",
     "text": [
      "4\n",
      "123\n",
      "3\n",
      "12\n",
      "2\n",
      "1\n",
      "30\n"
     ]
    }
   ],
   "source": [
    "\n",
    "num = 1234\n",
    "n4 = num % 10 \n",
    "print(n4)\n",
    "n = num // 10 \n",
    "print(n)\n",
    "n3 = n % 10\n",
    "print(n3)\n",
    "n11 = n // 10\n",
    "print(n11)\n",
    "n1 = n11 % 10\n",
    "n12 = n11 // 10\n",
    "print(n1)\n",
    "print(n12)\n",
    "total = (n12**2) + (n1**2) + (n3**2) + (n4**2)\n",
    "print(total)"
   ]
  },
  {
   "cell_type": "code",
   "execution_count": 26,
   "id": "d8959a22",
   "metadata": {},
   "outputs": [
    {
     "name": "stdout",
     "output_type": "stream",
     "text": [
      "9749.7\n",
      "9.7497\n",
      "11212.155000000002\n"
     ]
    }
   ],
   "source": [
    "#there is a cylinder whose radius 3 cm , and height is 345 cm  \n",
    "# find the volume of cylinder and the per volume cost is 230 rs calculate the price for juice of 5 litre\n",
    "r = 3\n",
    "h = 345\n",
    "vol = 3.14 * (r**2) * h\n",
    "print(vol)\n",
    "per = vol/1000\n",
    "print(per)\n",
    "print(per * 5 *230)"
   ]
  },
  {
   "cell_type": "code",
   "execution_count": 32,
   "id": "bcf0d8a5",
   "metadata": {},
   "outputs": [
    {
     "name": "stdout",
     "output_type": "stream",
     "text": [
      "171700\n"
     ]
    }
   ],
   "source": [
    "# find out the sum of square of first 50 natural even number\n",
    "total = 0\n",
    "for i in range(2,102):\n",
    "    if(i%2 == 0):\n",
    "        total += i**2\n",
    "print(total)"
   ]
  },
  {
   "cell_type": "code",
   "execution_count": 41,
   "id": "c994fe9c",
   "metadata": {},
   "outputs": [
    {
     "name": "stdout",
     "output_type": "stream",
     "text": [
      "prime number\n"
     ]
    }
   ],
   "source": [
    "# to check wether give number is prime of not\n",
    "num = 2\n",
    "if num ==1:\n",
    "    print(num,\"is not a prime number\")\n",
    "elif:\n",
    "    print(num,)\n",
    "for i in range(2,num):\n",
    "    if(num % i ==0):\n",
    "        p = 0\n",
    "    else:\n",
    "        p = 1\n",
    "if(p==1):\n",
    "    print(\"prime number\")\n",
    "else:\n",
    "    print(\"Not a prime number\")"
   ]
  },
  {
   "cell_type": "code",
   "execution_count": 58,
   "id": "dd291c70",
   "metadata": {},
   "outputs": [
    {
     "name": "stdout",
     "output_type": "stream",
     "text": [
      "Enter Number to check it is prime or Not: 8\n",
      "8 is not a prime number\n"
     ]
    }
   ],
   "source": [
    "num = int(input(\"Enter Number to check it is prime or Not: \"))\n",
    "if num > 1:\n",
    "    for i in range(2,num):\n",
    "        if(num % i == 0):\n",
    "            print(num,\"is not a prime number\")\n",
    "            break\n",
    "    else:\n",
    "        print(num,\"is a prime number\")\n",
    "else:\n",
    "    print(num,\"is not a prime number\")"
   ]
  },
  {
   "cell_type": "code",
   "execution_count": 1,
   "id": "e27888a2",
   "metadata": {},
   "outputs": [
    {
     "name": "stdout",
     "output_type": "stream",
     "text": [
      "71750\n"
     ]
    }
   ],
   "source": [
    "# to claculate the total of squaere of all the number divisible by 5 in the range from \n",
    "total = 0\n",
    "for num in range(1,101):\n",
    "    if(num % 5 ==0):\n",
    "        total = total + num **2\n",
    "print(total)"
   ]
  },
  {
   "cell_type": "code",
   "execution_count": 6,
   "id": "53ac30c8",
   "metadata": {},
   "outputs": [
    {
     "name": "stdout",
     "output_type": "stream",
     "text": [
      "*\n",
      "**\n",
      "***\n",
      "****\n"
     ]
    }
   ],
   "source": [
    "for i in range(1,5):\n",
    "    for j in range(1,i+1):\n",
    "        print(\"*\", end=\"\")\n",
    "    print(\"\")"
   ]
  },
  {
   "cell_type": "code",
   "execution_count": 16,
   "id": "3a3bae77",
   "metadata": {},
   "outputs": [
    {
     "name": "stdout",
     "output_type": "stream",
     "text": [
      "****\n",
      "***\n",
      "**\n",
      "*\n"
     ]
    }
   ],
   "source": [
    "for i in range(1,5):\n",
    "    for j in range(5,i,-1):\n",
    "        print(\"*\", end=\"\")\n",
    "    print(\"\")"
   ]
  },
  {
   "cell_type": "code",
   "execution_count": 22,
   "id": "4da13db9",
   "metadata": {},
   "outputs": [
    {
     "name": "stdout",
     "output_type": "stream",
     "text": [
      "*\n",
      "**\n",
      "***\n",
      "****\n",
      "***\n",
      "**\n",
      "*\n",
      "\n"
     ]
    }
   ],
   "source": [
    "for i in range(1,5):\n",
    "    for j in range(1,i+1):\n",
    "        print(\"*\", end=\"\")\n",
    "    print(\"\")\n",
    "for i in range(1,5):\n",
    "    for j in range(4,i,-1):\n",
    "        print(\"*\", end=\"\")\n",
    "    print(\"\")"
   ]
  },
  {
   "cell_type": "code",
   "execution_count": 47,
   "id": "a677cf81",
   "metadata": {},
   "outputs": [
    {
     "name": "stdout",
     "output_type": "stream",
     "text": [
      "    *\n",
      "   **\n",
      "  ***\n",
      " ****\n"
     ]
    }
   ],
   "source": [
    "for i in range(1,5):\n",
    "    for j in range(4,i-1,-1):\n",
    "        print(\" \", end=\"\")\n",
    "    for k in range(1,i+1):\n",
    "        print(\"*\",end = \"\")\n",
    "    print(\"\")"
   ]
  },
  {
   "cell_type": "code",
   "execution_count": 50,
   "id": "36e2bc46",
   "metadata": {},
   "outputs": [
    {
     "name": "stdout",
     "output_type": "stream",
     "text": [
      "Enter number of rows: 5\n",
      "    *\n",
      "   **\n",
      "  ***\n",
      " ****\n",
      "*****\n"
     ]
    }
   ],
   "source": [
    "n = int(input(\"Enter number of rows: \"))\n",
    "for i in range(1,n+1):\n",
    "    for k in range(n-1,i-1,-1):\n",
    "        print(\" \",end = \"\")\n",
    "    for j in range(1,i+1):\n",
    "        print(\"*\",end = \"\")\n",
    "    print(\"\")"
   ]
  },
  {
   "cell_type": "code",
   "execution_count": 55,
   "id": "26c954b2",
   "metadata": {},
   "outputs": [
    {
     "name": "stdout",
     "output_type": "stream",
     "text": [
      "Enter number of rows: 5\n",
      " ****\n",
      "  ***\n",
      "   **\n",
      "    *\n",
      "     \n"
     ]
    }
   ],
   "source": [
    "n = int(input(\"Enter number of rows: \"))\n",
    "for i in range(1,n+1):\n",
    "    for k in range(1,i+1):\n",
    "        print(\" \",end = \"\")\n",
    "    for j in range(n-1,i-1,-1):\n",
    "        print(\"*\",end = \"\")\n",
    "    print(\"\")"
   ]
  },
  {
   "cell_type": "code",
   "execution_count": 64,
   "id": "08f486bc",
   "metadata": {},
   "outputs": [
    {
     "name": "stdout",
     "output_type": "stream",
     "text": [
      "**** \n",
      "***  \n",
      "**   \n",
      "*    \n"
     ]
    }
   ],
   "source": [
    "for i in range(1,5):\n",
    "    for j in range(5,i,-1):\n",
    "        print(\"*\",end = \"\")\n",
    "    for k in range(1,i+1):\n",
    "        print(\" \",end = \"\")\n",
    "    print(\"\")"
   ]
  },
  {
   "cell_type": "code",
   "execution_count": 102,
   "id": "0ac6952b",
   "metadata": {},
   "outputs": [
    {
     "name": "stdout",
     "output_type": "stream",
     "text": [
      "*\n",
      "**\n",
      "* *\n",
      "*  *\n",
      "*****\n"
     ]
    }
   ],
   "source": [
    "for i in range(1,6):\n",
    "    for j in range(1,i+1):\n",
    "        if j==1 or i==5 or i==j:\n",
    "            print(\"*\",end= \"\")\n",
    "        else:\n",
    "            print(\" \",end=\"\")\n",
    "    print(\"\")"
   ]
  },
  {
   "cell_type": "code",
   "execution_count": 103,
   "id": "a3988f89",
   "metadata": {},
   "outputs": [
    {
     "name": "stdout",
     "output_type": "stream",
     "text": [
      "    *\n",
      "   **\n",
      "  * *\n",
      " *  *\n",
      "*****\n"
     ]
    }
   ],
   "source": [
    "for i in range(1,6):\n",
    "    \n",
    "    for k in range(n-1,i-1,-1):\n",
    "        print(\" \",end = \"\")\n",
    "    for j in range(1,i+1):\n",
    "        if j==1 or i==5 or i==j:\n",
    "            print(\"*\",end= \"\")\n",
    "        else:\n",
    "            print(\" \",end=\"\")\n",
    "    print(\"\")"
   ]
  },
  {
   "cell_type": "code",
   "execution_count": 107,
   "id": "fbd3fa86",
   "metadata": {},
   "outputs": [
    {
     "name": "stdout",
     "output_type": "stream",
     "text": [
      "   * \n",
      "  * * \n",
      " * * * \n",
      "* * * * \n"
     ]
    }
   ],
   "source": [
    "n=4\n",
    "for i in range(1,n+1):\n",
    "    for k in range(n-1,i-1,-1):\n",
    "        print(\" \",end = \"\")\n",
    "    for j in range(1,i+1):\n",
    "        print(\"*\",end = \" \")\n",
    "    print(\"\")"
   ]
  },
  {
   "cell_type": "code",
   "execution_count": 116,
   "id": "e6846b53",
   "metadata": {},
   "outputs": [
    {
     "name": "stdout",
     "output_type": "stream",
     "text": [
      "    *\n",
      "   ***\n",
      "  *****\n",
      " *******\n"
     ]
    }
   ],
   "source": [
    "for i in range(1,5):\n",
    "    for j in range(4,i-1,-1):\n",
    "        print(\" \", end=\"\")\n",
    "    for k in range(1,i*2):\n",
    "        print(\"*\",end = \"\")\n",
    "    print(\"\")"
   ]
  },
  {
   "cell_type": "code",
   "execution_count": null,
   "id": "d4fdf779",
   "metadata": {},
   "outputs": [],
   "source": []
  },
  {
   "cell_type": "code",
   "execution_count": null,
   "id": "19f36d7c",
   "metadata": {},
   "outputs": [],
   "source": []
  }
 ],
 "metadata": {
  "kernelspec": {
   "display_name": "Python 3 (ipykernel)",
   "language": "python",
   "name": "python3"
  },
  "language_info": {
   "codemirror_mode": {
    "name": "ipython",
    "version": 3
   },
   "file_extension": ".py",
   "mimetype": "text/x-python",
   "name": "python",
   "nbconvert_exporter": "python",
   "pygments_lexer": "ipython3",
   "version": "3.11.4"
  }
 },
 "nbformat": 4,
 "nbformat_minor": 5
}
