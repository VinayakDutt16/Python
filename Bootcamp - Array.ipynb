{
 "cells": [
  {
   "cell_type": "code",
   "execution_count": null,
   "id": "a15fdf96",
   "metadata": {},
   "outputs": [],
   "source": [
    "def selection_sort(arr):\n",
    "    n = len(arr)\n",
    "\n",
    "    for i in range(n):\n",
    "        \n",
    "        min_index = i\n",
    "        for j in range(i + 1, n):\n",
    "            if arr[j] < arr[min_index]:\n",
    "                min_index = j\n",
    "\n",
    "        \n",
    "        arr[i], arr[min_index] = arr[min_index], arr[i]\n",
    "\n",
    "    return arr\n",
    "\n",
    "# Example usage:\n",
    "my_list = [64, 25, 12, 22, 11]\n",
    "sorted_list = selection_sort(my_list)\n",
    "\n",
    "print(\"Original list:\", my_list)\n",
    "print(\"Sorted list:\", sorted_list)\n"
   ]
  },
  {
   "cell_type": "code",
   "execution_count": 5,
   "id": "c459efbd",
   "metadata": {},
   "outputs": [
    {
     "name": "stdout",
     "output_type": "stream",
     "text": [
      "The maximum value 100 is at index 3\n"
     ]
    }
   ],
   "source": [
    "# take a list and find out the index position of the list\n",
    "\n",
    "my_list = [10, 20, 30, 100, 50,60,10,3,70]\n",
    "\n",
    "mindex = 0\n",
    "mvalue = my_list[0]\n",
    "\n",
    "for i in range(1, len(my_list)):\n",
    "    if my_list[i] > mvalue:\n",
    "        mvalue = my_list[i]\n",
    "        mindex = i\n",
    "\n",
    "print(f\"The maximum value {mvalue} is at index {mindex}\")\n"
   ]
  },
  {
   "cell_type": "markdown",
   "id": "9011ed3d",
   "metadata": {},
   "source": [
    "# Array\n",
    "Sequential --> Continuous memory"
   ]
  },
  {
   "cell_type": "code",
   "execution_count": 2,
   "id": "b6dfa88b",
   "metadata": {},
   "outputs": [],
   "source": [
    "import array as arr"
   ]
  },
  {
   "cell_type": "code",
   "execution_count": 10,
   "id": "c486d819",
   "metadata": {},
   "outputs": [],
   "source": [
    "array1 = arr.array('i',[10,20,30,-1])  # (type,values)"
   ]
  },
  {
   "cell_type": "code",
   "execution_count": 11,
   "id": "780a4939",
   "metadata": {},
   "outputs": [],
   "source": [
    "array1.append(100)"
   ]
  },
  {
   "cell_type": "code",
   "execution_count": 38,
   "id": "cad1dd82",
   "metadata": {},
   "outputs": [
    {
     "data": {
      "text/plain": [
       "3"
      ]
     },
     "execution_count": 38,
     "metadata": {},
     "output_type": "execute_result"
    }
   ],
   "source": [
    "len(array1)"
   ]
  },
  {
   "cell_type": "code",
   "execution_count": 30,
   "id": "7e00ca47",
   "metadata": {},
   "outputs": [
    {
     "data": {
      "text/plain": [
       "9999"
      ]
     },
     "execution_count": 30,
     "metadata": {},
     "output_type": "execute_result"
    }
   ],
   "source": [
    "array1[0]"
   ]
  },
  {
   "cell_type": "code",
   "execution_count": 14,
   "id": "5f7710dc",
   "metadata": {},
   "outputs": [
    {
     "data": {
      "text/plain": [
       "array('i', [9999, 20, 30, -1, 100])"
      ]
     },
     "execution_count": 14,
     "metadata": {},
     "output_type": "execute_result"
    }
   ],
   "source": [
    "array1"
   ]
  },
  {
   "cell_type": "code",
   "execution_count": 15,
   "id": "f58577b3",
   "metadata": {},
   "outputs": [
    {
     "data": {
      "text/plain": [
       "100"
      ]
     },
     "execution_count": 15,
     "metadata": {},
     "output_type": "execute_result"
    }
   ],
   "source": [
    "array1.pop()"
   ]
  },
  {
   "cell_type": "code",
   "execution_count": 16,
   "id": "526e4fc5",
   "metadata": {},
   "outputs": [],
   "source": [
    "array1.remove(20)"
   ]
  },
  {
   "cell_type": "code",
   "execution_count": 17,
   "id": "86465580",
   "metadata": {},
   "outputs": [
    {
     "data": {
      "text/plain": [
       "array('i', [9999, 30, -1])"
      ]
     },
     "execution_count": 17,
     "metadata": {},
     "output_type": "execute_result"
    }
   ],
   "source": [
    "array1"
   ]
  },
  {
   "cell_type": "code",
   "execution_count": 18,
   "id": "4f581dc5",
   "metadata": {},
   "outputs": [
    {
     "data": {
      "text/plain": [
       "array('i', [9999, 30])"
      ]
     },
     "execution_count": 18,
     "metadata": {},
     "output_type": "execute_result"
    }
   ],
   "source": [
    "array1[0:2] # slicing in array"
   ]
  },
  {
   "cell_type": "code",
   "execution_count": 41,
   "id": "d0580694",
   "metadata": {},
   "outputs": [
    {
     "data": {
      "text/plain": [
       "array('i', [15, 24, 30])"
      ]
     },
     "execution_count": 41,
     "metadata": {},
     "output_type": "execute_result"
    }
   ],
   "source": [
    "ar = arr.array('i',[15,8,20,24,16,30])\n",
    "ar1 = arr.array('i')\n",
    "for i in range(len(ar)):\n",
    "    if i==0 or i==(len(ar)-1):\n",
    "        if i==0:\n",
    "            if(ar[i]>ar[i+1]):\n",
    "                ar1.append(ar[i])\n",
    "        else:\n",
    "            if(ar[i]>ar[i-1]):\n",
    "                ar1.append(ar[i])\n",
    "    else:\n",
    "        if (ar[i]>ar[i+1] and ar[i]>ar[i-1]):\n",
    "              ar1.append(ar[i])\n",
    "ar1"
   ]
  },
  {
   "cell_type": "code",
   "execution_count": 42,
   "id": "00bd7bb3",
   "metadata": {},
   "outputs": [
    {
     "data": {
      "text/plain": [
       "array('i', [15, 70])"
      ]
     },
     "execution_count": 42,
     "metadata": {},
     "output_type": "execute_result"
    }
   ],
   "source": [
    "ar = arr.array('i',[6,9,15,8,8,70,20])\n",
    "ar1 = arr.array('i')\n",
    "for i in range(len(ar)):\n",
    "    if i==0 or i==(len(ar)-1):\n",
    "        if i==0:\n",
    "            if(ar[i]>ar[i+1]):\n",
    "                ar1.append(ar[i])\n",
    "        else:\n",
    "            if(ar[i]>ar[i-1]):\n",
    "                ar1.append(ar[i])\n",
    "    else:\n",
    "        if (ar[i]>ar[i+1] and ar[i]>ar[i-1]):\n",
    "              ar1.append(ar[i])\n",
    "ar1"
   ]
  },
  {
   "cell_type": "code",
   "execution_count": 39,
   "id": "af2808c7",
   "metadata": {},
   "outputs": [
    {
     "data": {
      "text/plain": [
       "7"
      ]
     },
     "execution_count": 39,
     "metadata": {},
     "output_type": "execute_result"
    }
   ],
   "source": [
    "len(ar)"
   ]
  },
  {
   "cell_type": "code",
   "execution_count": 47,
   "id": "825bb7fd",
   "metadata": {},
   "outputs": [
    {
     "data": {
      "text/plain": [
       "array('i', [60, 50, 40, 40, 50, 60])"
      ]
     },
     "execution_count": 47,
     "metadata": {},
     "output_type": "execute_result"
    }
   ],
   "source": [
    "# write down a function which take one arguments \n",
    "\n",
    "ar = arr.array('i',[10,20,30,40,50,60])\n",
    "size = (len(ar)-1)\n",
    "for i in range(len(ar)):\n",
    "    if i<size:\n",
    "        ar[i] = ar[size]\n",
    "        size -=1\n",
    "ar"
   ]
  },
  {
   "cell_type": "code",
   "execution_count": null,
   "id": "89cdf6e1",
   "metadata": {},
   "outputs": [],
   "source": [
    "def func(array1):\n",
    "    start = 0\n",
    "    end = len(array1)-1\n",
    "    \n",
    "    while(start<end):\n",
    "        temp = arr[start]\n",
    "        arr[start] = arr[end]\n",
    "        arr[end] = temp\n",
    "        \n",
    "        start+=1\n",
    "        end-=1\n",
    "        \n",
    "    return arr\n",
    "print(array1)"
   ]
  },
  {
   "cell_type": "code",
   "execution_count": 52,
   "id": "6f011db6",
   "metadata": {},
   "outputs": [
    {
     "name": "stdout",
     "output_type": "stream",
     "text": [
      "None\n"
     ]
    }
   ],
   "source": [
    "# Take array in function find out the first repetitive number in the array\n",
    "\n",
    "ar = arr.array('i', [10,20,5,6,20,10])\n",
    "\n",
    "def func(ar):\n",
    "    index = len(ar)-1\n",
    "    for i in range(index):\n",
    "        if ar[i] == ar[i+1]:\n",
    "            return ar[i]\n",
    "        \n",
    "print(func(ar))"
   ]
  },
  {
   "cell_type": "code",
   "execution_count": 5,
   "id": "5b24615c",
   "metadata": {},
   "outputs": [
    {
     "name": "stdout",
     "output_type": "stream",
     "text": [
      "Original Array: array('i', [10, 20, 30, 40, 50])\n",
      "Right Rotated Array: array('i', [50, 10, 20, 30, 40])\n"
     ]
    }
   ],
   "source": [
    "# Cylinderical rotation of array\n",
    "ar = arr.array('i',[10,20,30,40,50])\n",
    "\n",
    "def right_rotate_array(arr, d):\n",
    "    n = len(arr)\n",
    "    d = d % n  \n",
    "\n",
    "    # Using slicing to perform right rotation\n",
    "    rotated_array = arr[-d:] + arr[:-d]\n",
    "    \n",
    "    return rotated_array\n",
    "\n",
    "rotation_distance = 1\n",
    "result = right_rotate_array(ar, rotation_distance)\n",
    "print(\"Original Array:\", ar)\n",
    "print(\"Right Rotated Array:\", result)\n",
    "\n"
   ]
  },
  {
   "cell_type": "code",
   "execution_count": 2,
   "id": "2f46131f",
   "metadata": {},
   "outputs": [],
   "source": [
    "import numpy as np\n",
    "arr1 = np.array([1,23,43,53,64])\n",
    "arr2 = arr1[::-1]"
   ]
  },
  {
   "cell_type": "code",
   "execution_count": 3,
   "id": "a9438b6a",
   "metadata": {},
   "outputs": [
    {
     "data": {
      "text/plain": [
       "array([64, 53, 43, 23,  1])"
      ]
     },
     "execution_count": 3,
     "metadata": {},
     "output_type": "execute_result"
    }
   ],
   "source": [
    "arr2"
   ]
  },
  {
   "cell_type": "code",
   "execution_count": 7,
   "id": "f44e112c",
   "metadata": {},
   "outputs": [],
   "source": [
    "d = {\"1\":\"hell\",\"2\":\"heelo\"}"
   ]
  },
  {
   "cell_type": "code",
   "execution_count": 9,
   "id": "2801b439",
   "metadata": {},
   "outputs": [
    {
     "name": "stdout",
     "output_type": "stream",
     "text": [
      "1 hell\n",
      "2 heelo\n"
     ]
    }
   ],
   "source": [
    "for k,v in d.items():\n",
    "    print(k,v)"
   ]
  },
  {
   "cell_type": "code",
   "execution_count": 15,
   "id": "f0a6e63e",
   "metadata": {},
   "outputs": [],
   "source": [
    "import array as arr\n",
    "a = arr.array('i',[1,2,3,4,5])"
   ]
  },
  {
   "cell_type": "code",
   "execution_count": 11,
   "id": "b6edb0e9",
   "metadata": {},
   "outputs": [
    {
     "data": {
      "text/plain": [
       "array('i', [1, 2, 3, 4, 5])"
      ]
     },
     "execution_count": 11,
     "metadata": {},
     "output_type": "execute_result"
    }
   ],
   "source": [
    "a"
   ]
  },
  {
   "cell_type": "code",
   "execution_count": 16,
   "id": "46615d86",
   "metadata": {},
   "outputs": [],
   "source": [
    "arr1 = a[::-1]"
   ]
  },
  {
   "cell_type": "code",
   "execution_count": 17,
   "id": "3d80d4df",
   "metadata": {},
   "outputs": [
    {
     "data": {
      "text/plain": [
       "array('i', [5, 4, 3, 2, 1])"
      ]
     },
     "execution_count": 17,
     "metadata": {},
     "output_type": "execute_result"
    }
   ],
   "source": [
    "arr1"
   ]
  },
  {
   "cell_type": "code",
   "execution_count": 18,
   "id": "a7af5858",
   "metadata": {},
   "outputs": [
    {
     "data": {
      "text/plain": [
       "array([10, 20, 30, 40])"
      ]
     },
     "execution_count": 18,
     "metadata": {},
     "output_type": "execute_result"
    }
   ],
   "source": [
    "ar2 = np.array([10,20,30,40])\n",
    "ar2"
   ]
  },
  {
   "cell_type": "code",
   "execution_count": 22,
   "id": "4631b7ec",
   "metadata": {},
   "outputs": [],
   "source": [
    "a3 = np.flip(ar2)"
   ]
  },
  {
   "cell_type": "code",
   "execution_count": 23,
   "id": "a63b23c1",
   "metadata": {},
   "outputs": [
    {
     "data": {
      "text/plain": [
       "array([40, 30, 20, 10])"
      ]
     },
     "execution_count": 23,
     "metadata": {},
     "output_type": "execute_result"
    }
   ],
   "source": [
    "a3"
   ]
  },
  {
   "cell_type": "code",
   "execution_count": null,
   "id": "8122444a",
   "metadata": {},
   "outputs": [],
   "source": []
  }
 ],
 "metadata": {
  "kernelspec": {
   "display_name": "Python 3 (ipykernel)",
   "language": "python",
   "name": "python3"
  },
  "language_info": {
   "codemirror_mode": {
    "name": "ipython",
    "version": 3
   },
   "file_extension": ".py",
   "mimetype": "text/x-python",
   "name": "python",
   "nbconvert_exporter": "python",
   "pygments_lexer": "ipython3",
   "version": "3.11.4"
  }
 },
 "nbformat": 4,
 "nbformat_minor": 5
}
