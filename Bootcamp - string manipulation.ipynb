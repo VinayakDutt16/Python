{
 "cells": [
  {
   "cell_type": "code",
   "execution_count": 2,
   "id": "32f261e0",
   "metadata": {},
   "outputs": [
    {
     "data": {
      "text/plain": [
       "['__add__',\n",
       " '__class__',\n",
       " '__contains__',\n",
       " '__delattr__',\n",
       " '__dir__',\n",
       " '__doc__',\n",
       " '__eq__',\n",
       " '__format__',\n",
       " '__ge__',\n",
       " '__getattribute__',\n",
       " '__getitem__',\n",
       " '__getnewargs__',\n",
       " '__getstate__',\n",
       " '__gt__',\n",
       " '__hash__',\n",
       " '__init__',\n",
       " '__init_subclass__',\n",
       " '__iter__',\n",
       " '__le__',\n",
       " '__len__',\n",
       " '__lt__',\n",
       " '__mod__',\n",
       " '__mul__',\n",
       " '__ne__',\n",
       " '__new__',\n",
       " '__reduce__',\n",
       " '__reduce_ex__',\n",
       " '__repr__',\n",
       " '__rmod__',\n",
       " '__rmul__',\n",
       " '__setattr__',\n",
       " '__sizeof__',\n",
       " '__str__',\n",
       " '__subclasshook__',\n",
       " 'capitalize',\n",
       " 'casefold',\n",
       " 'center',\n",
       " 'count',\n",
       " 'encode',\n",
       " 'endswith',\n",
       " 'expandtabs',\n",
       " 'find',\n",
       " 'format',\n",
       " 'format_map',\n",
       " 'index',\n",
       " 'isalnum',\n",
       " 'isalpha',\n",
       " 'isascii',\n",
       " 'isdecimal',\n",
       " 'isdigit',\n",
       " 'isidentifier',\n",
       " 'islower',\n",
       " 'isnumeric',\n",
       " 'isprintable',\n",
       " 'isspace',\n",
       " 'istitle',\n",
       " 'isupper',\n",
       " 'join',\n",
       " 'ljust',\n",
       " 'lower',\n",
       " 'lstrip',\n",
       " 'maketrans',\n",
       " 'partition',\n",
       " 'removeprefix',\n",
       " 'removesuffix',\n",
       " 'replace',\n",
       " 'rfind',\n",
       " 'rindex',\n",
       " 'rjust',\n",
       " 'rpartition',\n",
       " 'rsplit',\n",
       " 'rstrip',\n",
       " 'split',\n",
       " 'splitlines',\n",
       " 'startswith',\n",
       " 'strip',\n",
       " 'swapcase',\n",
       " 'title',\n",
       " 'translate',\n",
       " 'upper',\n",
       " 'zfill']"
      ]
     },
     "execution_count": 2,
     "metadata": {},
     "output_type": "execute_result"
    }
   ],
   "source": [
    "# String manipulation\n",
    "\n",
    "\n",
    "\n",
    "# string format\n",
    "\n",
    "# iterable / iteator\n",
    "\n",
    "# iterable => loop executed ho skta hai\n",
    "# iter method available hoga\n",
    "# iterator protocol ka use krke\n",
    "#example :\n",
    "dir(\"hello\")"
   ]
  },
  {
   "cell_type": "code",
   "execution_count": 4,
   "id": "954fcaf6",
   "metadata": {},
   "outputs": [
    {
     "name": "stdout",
     "output_type": "stream",
     "text": [
      "Enter a stringhello\n",
      "h\n",
      "e\n",
      "l\n",
      "l\n",
      "o\n"
     ]
    }
   ],
   "source": [
    "x = input(\"Enter a string\")\n",
    "for i in x:\n",
    "    print(i)"
   ]
  },
  {
   "cell_type": "code",
   "execution_count": 9,
   "id": "df437cce",
   "metadata": {},
   "outputs": [
    {
     "name": "stdout",
     "output_type": "stream",
     "text": [
      "Enter a stringVinayak\n",
      "V\n",
      "i\n",
      "n\n",
      "a\n",
      "y\n",
      "a\n",
      "k\n",
      "7  letters in the string\n"
     ]
    }
   ],
   "source": [
    "x = input(\"Enter a string\")\n",
    "count = 0\n",
    "for i in x:\n",
    "    count+=1\n",
    "    print(i)\n",
    "print(count,\" letters in the string\")"
   ]
  },
  {
   "cell_type": "code",
   "execution_count": 8,
   "id": "bb1283c0",
   "metadata": {},
   "outputs": [
    {
     "name": "stdout",
     "output_type": "stream",
     "text": [
      "Enter a stringhello my name is vinayak dutt\n",
      "hello\n",
      "my\n",
      "name\n",
      "is\n",
      "vinayak\n",
      "dutt\n",
      "6  Words in the string\n"
     ]
    }
   ],
   "source": [
    "x = input(\"Enter a string\")\n",
    "count = 0\n",
    "for i in x.split(\" \"):\n",
    "    count+=1\n",
    "    print(i)\n",
    "print(count,\" Words in the string\")"
   ]
  },
  {
   "cell_type": "code",
   "execution_count": 10,
   "id": "05bafac8",
   "metadata": {},
   "outputs": [
    {
     "data": {
      "text/plain": [
       "'cba'"
      ]
     },
     "execution_count": 10,
     "metadata": {},
     "output_type": "execute_result"
    }
   ],
   "source": [
    "#Reverse in a string\n",
    "x = \"abc\"\n",
    "x[::-1]"
   ]
  },
  {
   "cell_type": "code",
   "execution_count": 12,
   "id": "29437258",
   "metadata": {},
   "outputs": [
    {
     "name": "stdout",
     "output_type": "stream",
     "text": [
      "Palindrome\n"
     ]
    }
   ],
   "source": [
    "# To check wether the give string is Palndrome or not\n",
    "x = \"aba\"\n",
    "x[::-1]\n",
    "if(x==x[::-1]):\n",
    "    print(\"Palindrome\")"
   ]
  },
  {
   "cell_type": "code",
   "execution_count": 21,
   "id": "3a9b2690",
   "metadata": {},
   "outputs": [
    {
     "name": "stdout",
     "output_type": "stream",
     "text": [
      "Enterd String is palindrome\n"
     ]
    }
   ],
   "source": [
    "# Function to check wether the give srtring is palindrome or not\n",
    "\n",
    "def palindrome_check(data):\n",
    "    \n",
    "    mid = (len(data)-1)//2\n",
    "    start = 0\n",
    "    last = len(data)-1\n",
    "    flag = 0\n",
    "    \n",
    "    while(start<=mid):\n",
    "        \n",
    "        if(data[start]==data[last]):\n",
    "            start +=1\n",
    "            last -=1\n",
    "        else:\n",
    "            flag = 1\n",
    "            break;\n",
    "    if(flag ==0):\n",
    "        print(\"Enterd String is palindrome\")\n",
    "    else:\n",
    "        print(\"Enterd String is not palindrome\")\n",
    "palindrome_check(\"saras\")"
   ]
  },
  {
   "cell_type": "code",
   "execution_count": 42,
   "id": "cf8e138c",
   "metadata": {},
   "outputs": [
    {
     "name": "stdout",
     "output_type": "stream",
     "text": [
      "String is symmetric\n"
     ]
    }
   ],
   "source": [
    "def symmetric_check(data):\n",
    "    n=len(data)\n",
    "    start=0\n",
    "    last = n\n",
    "    flag = 0\n",
    "    \n",
    "    if n%2:\n",
    "        mid = n//2+1\n",
    "    else:\n",
    "        mid = n//2\n",
    "    \n",
    "    while(start<mid and mid<last):\n",
    "        if(data[start]==data[mid]):\n",
    "            start +=1\n",
    "            mid +=1\n",
    "        else :\n",
    "            flag = 1\n",
    "            break\n",
    "    if(flag==0):\n",
    "        print(\"String is symmetric\")\n",
    "    else:\n",
    "        print(\"String is not symmetric\")\n",
    "    \n",
    "symmetric_check(\"abcdabc\")"
   ]
  },
  {
   "cell_type": "code",
   "execution_count": 69,
   "id": "77a7b625",
   "metadata": {},
   "outputs": [
    {
     "name": "stdout",
     "output_type": "stream",
     "text": [
      "Enter the string aeaiou\n",
      "string doesn't contain all the vowels\n",
      "0\n"
     ]
    }
   ],
   "source": [
    "# Check wether a string have all the vowels or not\n",
    "\n",
    "flag = 0\n",
    "strn = input(\"Enter the string \")\n",
    "for i in strn:\n",
    "if(i == 'i'):\n",
    "    flag += 1\n",
    "else:\n",
    "    flag = 0\n",
    "\n",
    "if(flag==1):\n",
    "        print(\"String contains all the vowels\")\n",
    "else:\n",
    "        print(\"string doesn't contain all the vowels\")\n",
    "print(flag)"
   ]
  },
  {
   "cell_type": "code",
   "execution_count": 65,
   "id": "ac2f2e25",
   "metadata": {},
   "outputs": [
    {
     "name": "stdout",
     "output_type": "stream",
     "text": [
      "Enter the string :hello\n",
      "{'h': 1, 'e': 1, 'l': 2, 'o': 1}\n",
      "e\n"
     ]
    }
   ],
   "source": [
    "# least frequent characters in the string\n",
    "\n",
    "# (1).dictionary\n",
    "\n",
    "# (2).Counter\n",
    "\n",
    "# (1). By Dictionary==>\n",
    "\n",
    "x = input(\"Enter the string :\")\n",
    "\n",
    "mydictionary = {}\n",
    "\n",
    "for i in x:\n",
    "    if i not in mydictionary:\n",
    "        mydictionary[i] = 1\n",
    "    else:\n",
    "        mydictionary[i] += 1\n",
    "        \n",
    "print(mydictionary)\n",
    "\n",
    "print(min(mydictionary))  # Comparison on the basis of keys not on the values hence e is the least frequent characters"
   ]
  },
  {
   "cell_type": "code",
   "execution_count": 70,
   "id": "c2826b0b",
   "metadata": {},
   "outputs": [],
   "source": [
    "# Q1. minimum frequent character \n",
    "# Q2. maximum frequent character\n",
    "# Q3. To convert the first half of the string in upper case"
   ]
  },
  {
   "cell_type": "code",
   "execution_count": 83,
   "id": "f2faea0b",
   "metadata": {},
   "outputs": [
    {
     "name": "stdout",
     "output_type": "stream",
     "text": [
      "Enter the string : string\n",
      "STRIng\n"
     ]
    }
   ],
   "source": [
    "# Q3.Convert the first half of the string in upper case\n",
    "def func(data):\n",
    "    mid = len(data)//2\n",
    "    final = \"\"\n",
    "    for i in range(0,len(data)):\n",
    "        if( i<=mid):\n",
    "            final+=data[i].upper()\n",
    "        else:\n",
    "            final +=data[i]\n",
    "    print(final)\n",
    "func(input(\"Enter the string : \"))"
   ]
  },
  {
   "cell_type": "code",
   "execution_count": 84,
   "id": "8e3b49d9",
   "metadata": {},
   "outputs": [],
   "source": [
    "# Q4 Take a input from a user and find a string is valid link or not\n",
    "# Q5 Take a input from the user and check how many time that a paritcular sub string is present in the string\n"
   ]
  },
  {
   "cell_type": "code",
   "execution_count": 88,
   "id": "7b737330",
   "metadata": {},
   "outputs": [
    {
     "name": "stdout",
     "output_type": "stream",
     "text": [
      "$$$$*\n",
      "$$$**\n",
      "$$***\n",
      "$****\n"
     ]
    }
   ],
   "source": []
  },
  {
   "cell_type": "code",
   "execution_count": 121,
   "id": "7d0e225b",
   "metadata": {},
   "outputs": [
    {
     "name": "stdout",
     "output_type": "stream",
     "text": [
      " *****\n",
      "   *  *\n",
      "    * * \n",
      "     **  \n",
      "      *   \n"
     ]
    }
   ],
   "source": []
  },
  {
   "cell_type": "code",
   "execution_count": null,
   "id": "7cb1dd0e",
   "metadata": {},
   "outputs": [],
   "source": []
  }
 ],
 "metadata": {
  "kernelspec": {
   "display_name": "Python 3 (ipykernel)",
   "language": "python",
   "name": "python3"
  },
  "language_info": {
   "codemirror_mode": {
    "name": "ipython",
    "version": 3
   },
   "file_extension": ".py",
   "mimetype": "text/x-python",
   "name": "python",
   "nbconvert_exporter": "python",
   "pygments_lexer": "ipython3",
   "version": "3.11.4"
  }
 },
 "nbformat": 4,
 "nbformat_minor": 5
}
