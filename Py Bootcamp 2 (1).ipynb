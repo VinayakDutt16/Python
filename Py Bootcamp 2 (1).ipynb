{
 "cells": [
  {
   "cell_type": "code",
   "execution_count": 182,
   "id": "35e4eaf4",
   "metadata": {},
   "outputs": [
    {
     "name": "stdout",
     "output_type": "stream",
     "text": [
      " * * * * \n",
      "  * * * \n",
      "   * * \n",
      "    * \n"
     ]
    }
   ],
   "source": [
    "# (1)\n",
    "for i in range(1,5):\n",
    "    for j in range(1,i+1):\n",
    "        print(\" \", end=\"\")\n",
    "    for k in range(5,i,-1):\n",
    "        print(\"*\",end = \" \")\n",
    "    \n",
    "    print(\"\")"
   ]
  },
  {
   "cell_type": "code",
   "execution_count": 250,
   "id": "8885b3cd",
   "metadata": {},
   "outputs": [
    {
     "name": "stdout",
     "output_type": "stream",
     "text": [
      "    *\n",
      "   ***\n",
      "  *****\n"
     ]
    }
   ],
   "source": [
    "#(2) \n",
    "for i in range(1,4):\n",
    "    for j in range(4,i-1,-1):\n",
    "        print(\" \", end=\"\")\n",
    "    for k in range(1,i*2):\n",
    "        print(\"*\",end = \"\")\n",
    "    print(\"\")"
   ]
  },
  {
   "cell_type": "code",
   "execution_count": 110,
   "id": "0ba1cb14",
   "metadata": {},
   "outputs": [
    {
     "name": "stdout",
     "output_type": "stream",
     "text": [
      "*\n",
      " *\n",
      "  *\n",
      "   *\n",
      "    *\n"
     ]
    }
   ],
   "source": [
    "#(3)\n",
    "for i in range(1,6):\n",
    "    for j in range(1,i+1):\n",
    "        if i==j:\n",
    "            print(\"*\",end= \"\")\n",
    "        else:\n",
    "            print(\" \",end=\"\")\n",
    "    print(\"\")\n"
   ]
  },
  {
   "cell_type": "code",
   "execution_count": 27,
   "id": "ecaa4024",
   "metadata": {},
   "outputs": [
    {
     "name": "stdout",
     "output_type": "stream",
     "text": [
      "    *\n",
      "   *\n",
      "  *\n",
      " *\n",
      "*\n"
     ]
    }
   ],
   "source": [
    "# (4)\n",
    "for i in range(1,6):\n",
    "    for k in range(5,i,-1):\n",
    "        print(\" \", end=\"\")\n",
    "    print(\"*\",end= \"\")\n",
    "    print(\"\")"
   ]
  },
  {
   "cell_type": "code",
   "execution_count": 131,
   "id": "df22a370",
   "metadata": {},
   "outputs": [
    {
     "name": "stdout",
     "output_type": "stream",
     "text": [
      "*****\n",
      "*\n",
      "***\n",
      "*\n",
      "*****\n"
     ]
    }
   ],
   "source": [
    "#(5)\n",
    "for i in range(1,6):\n",
    "    for j in range(6,1,-1):\n",
    "        if i%2==0:\n",
    "            print(\"*\",end=\"\")\n",
    "            break\n",
    "        elif i==3:\n",
    "            print(\"***\",end=\"\")\n",
    "            break\n",
    "        else:\n",
    "            print(\"*\",end=\"\")\n",
    "        \n",
    "    print(\"\")"
   ]
  },
  {
   "cell_type": "code",
   "execution_count": 189,
   "id": "14d65638",
   "metadata": {},
   "outputs": [
    {
     "name": "stdout",
     "output_type": "stream",
     "text": [
      "   ****\n",
      "  *\n",
      " *\n",
      "****\n"
     ]
    }
   ],
   "source": [
    "#6\n",
    "for i in range(1,5):\n",
    "    for k in range(4,i,-1):\n",
    "        print(\" \", end=\"\")\n",
    "    for j in range(5,1,-1):\n",
    "        if i==1 or j==5 or i==4:\n",
    "            print(\"*\",end= \"\")\n",
    "    print(\"\")"
   ]
  },
  {
   "cell_type": "code",
   "execution_count": 158,
   "id": "5d4dbe25",
   "metadata": {},
   "outputs": [
    {
     "name": "stdout",
     "output_type": "stream",
     "text": [
      "*   *\n",
      " * * \n",
      "  *  \n",
      " * * \n",
      "*   *\n"
     ]
    }
   ],
   "source": [
    "\n",
    "for i in range(1,6):\n",
    "    for j in range(1,6):\n",
    "        if i==j or j==6-i:\n",
    "            print(\"*\",end= \"\")\n",
    "        else:\n",
    "            print(\" \",end=\"\")\n",
    "    print(\"\")"
   ]
  },
  {
   "cell_type": "code",
   "execution_count": 247,
   "id": "3caf7cd2",
   "metadata": {},
   "outputs": [
    {
     "name": "stdout",
     "output_type": "stream",
     "text": [
      "    *\n",
      "   ***\n",
      "  *****\n",
      "   ***\n",
      "    *\n"
     ]
    }
   ],
   "source": [
    "#7\n",
    "for i in range(1,4):\n",
    "    for j in range(4,i-1,-1):\n",
    "        print(\" \", end=\"\")\n",
    "    for k in range(1,i*2):\n",
    "        print(\"*\",end = \"\")\n",
    "    \n",
    "    print(\"\")\n",
    "for i in range(3,1,-1):\n",
    "    for j in range(i-1,5):\n",
    "        print(\" \", end=\"\")\n",
    "    for k in range(i*2,3,-1):\n",
    "        print(\"*\",end=\"\")\n",
    "    \n",
    "    print(\"\")"
   ]
  },
  {
   "cell_type": "code",
   "execution_count": null,
   "id": "f884965e",
   "metadata": {},
   "outputs": [],
   "source": []
  }
 ],
 "metadata": {
  "kernelspec": {
   "display_name": "Python 3 (ipykernel)",
   "language": "python",
   "name": "python3"
  },
  "language_info": {
   "codemirror_mode": {
    "name": "ipython",
    "version": 3
   },
   "file_extension": ".py",
   "mimetype": "text/x-python",
   "name": "python",
   "nbconvert_exporter": "python",
   "pygments_lexer": "ipython3",
   "version": "3.11.4"
  }
 },
 "nbformat": 4,
 "nbformat_minor": 5
}
