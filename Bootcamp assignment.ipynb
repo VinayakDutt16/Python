{
 "cells": [
  {
   "cell_type": "code",
   "execution_count": 1,
   "id": "5be0c7b7",
   "metadata": {},
   "outputs": [
    {
     "name": "stdout",
     "output_type": "stream",
     "text": [
      "$$$$*\n",
      "$$$**\n",
      "$$***\n",
      "$****\n"
     ]
    }
   ],
   "source": [
    "# Pattern questions\n",
    "\n",
    "#Pattern 1\n",
    "for i in range(1,5):\n",
    "    for j in range(5,i,-1):\n",
    "        print(\"$\",end=\"\")\n",
    "    \n",
    "    for k in range(0,i):\n",
    "        print(\"*\",end=\"\")\n",
    "    print(\"\")"
   ]
  },
  {
   "cell_type": "code",
   "execution_count": 25,
   "id": "d4993ad5",
   "metadata": {},
   "outputs": [
    {
     "name": "stdout",
     "output_type": "stream",
     "text": [
      "*****\n",
      " *  * \n",
      "  * *  \n",
      "   **   \n",
      "    *    \n"
     ]
    }
   ],
   "source": [
    "#Pattern 2\n",
    "\n",
    "for i in range(1,6):\n",
    "    for j in range(1,i):\n",
    "        print(\" \",end=\"\")\n",
    "    for j in range(5,0,-1):\n",
    "        if j==5 or i==1 or i==j:\n",
    "            print(\"*\",end= \"\")\n",
    "        else:\n",
    "            print(\" \",end=\"\")\n",
    "    print(\"\")"
   ]
  },
  {
   "cell_type": "code",
   "execution_count": 32,
   "id": "555de658",
   "metadata": {},
   "outputs": [
    {
     "name": "stdout",
     "output_type": "stream",
     "text": [
      "Enter the string :aabbbcccc\n",
      "{'a': 2, 'b': 3, 'c': 4}\n",
      "c\n"
     ]
    }
   ],
   "source": [
    "# String manipualtion \n",
    "\n",
    "# (1). Most frequent charcters\n",
    "\n",
    "x = input(\"Enter the string :\")\n",
    "\n",
    "mydictionary = {}\n",
    "\n",
    "for i in x:\n",
    "    if i not in mydictionary:\n",
    "        mydictionary[i] = 1\n",
    "    else:\n",
    "        mydictionary[i] += 1\n",
    "        \n",
    "print(mydictionary)\n",
    "\n",
    "print(max(mydictionary))"
   ]
  },
  {
   "cell_type": "code",
   "execution_count": 38,
   "id": "fc9c88a7",
   "metadata": {},
   "outputs": [
    {
     "name": "stdout",
     "output_type": "stream",
     "text": [
      "Enter a String : https://google.com\n",
      "Enterd string in link\n"
     ]
    }
   ],
   "source": [
    "# (2). Take a input from a user and find a string is valid link or not\n",
    "\n",
    "x = input(\"Enter a String : \")\n",
    "link = \"https://\"\n",
    "c=0\n",
    "if link in x:\n",
    "    c+=1\n",
    "if c==1:\n",
    "    print(\"Enterd string in link\")\n",
    "else:\n",
    "    print(\"Enterd string is not a link\")"
   ]
  },
  {
   "cell_type": "code",
   "execution_count": 39,
   "id": "1ea6359b",
   "metadata": {},
   "outputs": [
    {
     "name": "stdout",
     "output_type": "stream",
     "text": [
      "Enter the String : abcdefabchijabcklmabc\n",
      "Enter the sub-string you want to count : abc\n",
      "4\n"
     ]
    }
   ],
   "source": [
    "# (3). Take a input from the user and check how many time that a paritcular sub string is present in the string\n",
    "\n",
    "string = input(\"Enter the String : \")\n",
    "sub_string = input(\"Enter the sub-string you want to count : \")\n",
    "\n",
    "count = string.count(sub_string)\n",
    "print(count)"
   ]
  },
  {
   "cell_type": "code",
   "execution_count": null,
   "id": "67dc786e",
   "metadata": {},
   "outputs": [],
   "source": []
  }
 ],
 "metadata": {
  "kernelspec": {
   "display_name": "Python 3 (ipykernel)",
   "language": "python",
   "name": "python3"
  },
  "language_info": {
   "codemirror_mode": {
    "name": "ipython",
    "version": 3
   },
   "file_extension": ".py",
   "mimetype": "text/x-python",
   "name": "python",
   "nbconvert_exporter": "python",
   "pygments_lexer": "ipython3",
   "version": "3.11.4"
  }
 },
 "nbformat": 4,
 "nbformat_minor": 5
}
