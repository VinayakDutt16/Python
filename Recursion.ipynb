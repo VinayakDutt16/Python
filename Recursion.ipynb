{
 "cells": [
  {
   "cell_type": "code",
   "execution_count": 1,
   "id": "1fe33391",
   "metadata": {},
   "outputs": [
    {
     "name": "stdout",
     "output_type": "stream",
     "text": [
      "<function func at 0x000001E84730F9C0>\n"
     ]
    }
   ],
   "source": [
    "def func():\n",
    "    print(\"Hello\")\n",
    " \n",
    "# First class function : Memory address assigned in the variable\n",
    "x = func\n",
    "print(x)"
   ]
  },
  {
   "cell_type": "code",
   "execution_count": 2,
   "id": "8d9a3695",
   "metadata": {},
   "outputs": [
    {
     "name": "stdout",
     "output_type": "stream",
     "text": [
      "This is a regex func\n",
      "None\n"
     ]
    }
   ],
   "source": [
    "def regex():\n",
    "    print(\"This is a regex func\")\n",
    "    \n",
    "print(regex())"
   ]
  },
  {
   "cell_type": "code",
   "execution_count": 3,
   "id": "795894e3",
   "metadata": {},
   "outputs": [
    {
     "name": "stdout",
     "output_type": "stream",
     "text": [
      "This is a regex func\n"
     ]
    }
   ],
   "source": [
    "def regex():\n",
    "    print(\"This is a regex func\")\n",
    "    \n",
    "x = regex()"
   ]
  },
  {
   "cell_type": "code",
   "execution_count": 4,
   "id": "e69e5121",
   "metadata": {},
   "outputs": [
    {
     "name": "stdout",
     "output_type": "stream",
     "text": [
      "hey\n",
      "None\n"
     ]
    }
   ],
   "source": [
    "def regex():\n",
    "    print(\"hello\")\n",
    "    \n",
    "print(print(\"hey\"))"
   ]
  },
  {
   "cell_type": "code",
   "execution_count": 7,
   "id": "6d43c181",
   "metadata": {},
   "outputs": [
    {
     "name": "stdout",
     "output_type": "stream",
     "text": [
      "hello\n",
      "Hey tushar here\n",
      "None\n"
     ]
    }
   ],
   "source": [
    "def regex():\n",
    "    print(\"hello\")\n",
    "\n",
    "def tushar(num):\n",
    "    print(\"Hey tushar here\")\n",
    "    print(num)\n",
    "#     return num\n",
    "tushar(regex())"
   ]
  },
  {
   "cell_type": "code",
   "execution_count": 9,
   "id": "43cc6cac",
   "metadata": {},
   "outputs": [
    {
     "name": "stdout",
     "output_type": "stream",
     "text": [
      "Hey tushar here\n",
      "hello\n"
     ]
    }
   ],
   "source": [
    "def regex():\n",
    "    print(\"hello\")\n",
    "\n",
    "def tushar(num):\n",
    "    print(\"Hey tushar here\")\n",
    "    num()\n",
    "#     return num\n",
    "tushar(regex)"
   ]
  },
  {
   "cell_type": "markdown",
   "id": "6cdd126a",
   "metadata": {},
   "source": [
    "# Recursion"
   ]
  },
  {
   "cell_type": "code",
   "execution_count": 10,
   "id": "399a0c1c",
   "metadata": {},
   "outputs": [],
   "source": [
    "# A function calling itself\n",
    "# Simple Code"
   ]
  },
  {
   "cell_type": "code",
   "execution_count": 12,
   "id": "5fd4756c",
   "metadata": {},
   "outputs": [
    {
     "name": "stdout",
     "output_type": "stream",
     "text": [
      "Enter a mumber :5\n",
      "120\n"
     ]
    }
   ],
   "source": [
    "a = int(input(\"Enter a mumber :\"))\n",
    "factorial = 1\n",
    "for i in range(1,a+1):\n",
    "    factorial = factorial *i\n",
    "print(factorial)"
   ]
  },
  {
   "cell_type": "code",
   "execution_count": 13,
   "id": "4a067419",
   "metadata": {},
   "outputs": [
    {
     "name": "stdout",
     "output_type": "stream",
     "text": [
      "hey 5\n",
      "hey 4\n",
      "hey 3\n",
      "hey 2\n",
      "hey 1\n",
      "hey 0\n"
     ]
    }
   ],
   "source": [
    "def xyz(num):\n",
    "    print(\"hey\",num)\n",
    "    if num>0:\n",
    "        return xyz(num-1)\n",
    "    return\n",
    "xyz(5)"
   ]
  },
  {
   "cell_type": "code",
   "execution_count": 19,
   "id": "ca811c18",
   "metadata": {},
   "outputs": [
    {
     "data": {
      "text/plain": [
       "120"
      ]
     },
     "execution_count": 19,
     "metadata": {},
     "output_type": "execute_result"
    }
   ],
   "source": [
    "# Factorial using function\n",
    "\n",
    "def fact(num):\n",
    "    \n",
    "    if(num ==1):\n",
    "        return 1\n",
    "    \n",
    "    return fact(num-1)*num\n",
    "x = fact(5)\n",
    "x"
   ]
  },
  {
   "cell_type": "markdown",
   "id": "e2090f60",
   "metadata": {},
   "source": [
    "# To find the product of two numbers with recursion"
   ]
  },
  {
   "cell_type": "code",
   "execution_count": 21,
   "id": "0f50862a",
   "metadata": {},
   "outputs": [
    {
     "data": {
      "text/plain": [
       "8"
      ]
     },
     "execution_count": 21,
     "metadata": {},
     "output_type": "execute_result"
    }
   ],
   "source": [
    "def product(x,y):\n",
    "    if(x<y):\n",
    "        return product(y,x)\n",
    "    elif y!=0:\n",
    "        return (x+product(x,y-1))\n",
    "    else:\n",
    "        return 0\n",
    "x = 4\n",
    "y = 2\n",
    "product(x,y)"
   ]
  },
  {
   "cell_type": "markdown",
   "id": "1ec85d93",
   "metadata": {},
   "source": [
    "# Take a input from a user find out total count of digit using recursion"
   ]
  },
  {
   "cell_type": "code",
   "execution_count": 34,
   "id": "60f12fcd",
   "metadata": {},
   "outputs": [
    {
     "name": "stdout",
     "output_type": "stream",
     "text": [
      "Enter the number :7\n",
      "1\n"
     ]
    }
   ],
   "source": [
    "def count(num):\n",
    "    c = 0\n",
    "    while num !=0:\n",
    "        num = num//10\n",
    "        c = c+1\n",
    "        if num!=0:\n",
    "            return count(num)\n",
    "    return c\n",
    "\n",
    "x = int(input(\"Enter the number :\"))\n",
    "val = count(x)\n",
    "print(val)"
   ]
  },
  {
   "cell_type": "markdown",
   "id": "77491682",
   "metadata": {},
   "source": [
    "# To find the sum of digits of a number using recursion"
   ]
  },
  {
   "cell_type": "code",
   "execution_count": 36,
   "id": "5846601e",
   "metadata": {},
   "outputs": [
    {
     "name": "stdout",
     "output_type": "stream",
     "text": [
      "Enter the number :123456\n"
     ]
    },
    {
     "data": {
      "text/plain": [
       "21"
      ]
     },
     "execution_count": 36,
     "metadata": {},
     "output_type": "execute_result"
    }
   ],
   "source": [
    "def sum(n):\n",
    "    if n == 0:\n",
    "        return 0\n",
    "    return (n%10 + sum(int(n/10)))\n",
    "            \n",
    "x = int(input(\"Enter the number :\"))\n",
    "sum(x)"
   ]
  },
  {
   "cell_type": "markdown",
   "id": "74591d3e",
   "metadata": {},
   "source": [
    "# Create a function to find out the factorial of the number"
   ]
  },
  {
   "cell_type": "code",
   "execution_count": 37,
   "id": "dda53be7",
   "metadata": {},
   "outputs": [
    {
     "name": "stdout",
     "output_type": "stream",
     "text": [
      "Enter the number : 10\n",
      "1\n",
      "2\n",
      "5\n",
      "10\n"
     ]
    }
   ],
   "source": [
    "x = int(input(\"Enter the number : \"))\n",
    "for i in range(1,x+1):\n",
    "    if x % i ==0:\n",
    "        print(i)"
   ]
  },
  {
   "cell_type": "code",
   "execution_count": 41,
   "id": "22ebb18f",
   "metadata": {},
   "outputs": [
    {
     "name": "stdout",
     "output_type": "stream",
     "text": [
      "Enter the number :12\n"
     ]
    }
   ],
   "source": [
    "# With recursion\n",
    " \n",
    "def factor(num,y):\n",
    "    \n",
    "    if(y<=num ):\n",
    "        if(num % y ==0):\n",
    "            factor(num,y+1)\n",
    "        \n",
    "x = int(input(\"Enter the number :\"))\n",
    "y = 2\n",
    "factor(x,y)"
   ]
  },
  {
   "cell_type": "code",
   "execution_count": 43,
   "id": "6400d272",
   "metadata": {},
   "outputs": [
    {
     "name": "stdout",
     "output_type": "stream",
     "text": [
      "xyz\n"
     ]
    }
   ],
   "source": [
    "# copying one string to other string using recursion\n",
    "\n",
    "str1 = \"xyz\"\n",
    "str2 = \"abc\"\n",
    "\n",
    "for i in str1:\n",
    "    str2 = str1\n",
    "print(str2)"
   ]
  },
  {
   "cell_type": "code",
   "execution_count": 45,
   "id": "8cdfbcd6",
   "metadata": {},
   "outputs": [
    {
     "name": "stdout",
     "output_type": "stream",
     "text": [
      "abc\n",
      "xyz\n",
      "abc\n"
     ]
    }
   ],
   "source": [
    "def copy_str(x, y):\n",
    "    if len(y) == 0:\n",
    "        return x\n",
    "    else:\n",
    "        c = copy_str(x, (y)[1:-1])\n",
    "        return c\n",
    " \n",
    " \n",
    "x = input(\"\")\n",
    "y = input(\"\")\n",
    "print(copy_str(x, y))\n",
    " "
   ]
  },
  {
   "cell_type": "code",
   "execution_count": 46,
   "id": "09c7b89d",
   "metadata": {},
   "outputs": [],
   "source": [
    "# Aditya and khashyap is playing a badminton game there friend shyam is looking at the contest between the two \n",
    "\n",
    "# Shyam is eagerly waiting to get his turn but the condition they have in front of them is one the player has to win the 7 games\n",
    "\n",
    "# We need to predict in how many turn shyam will have a change in play the game\n",
    "\n",
    "\n",
    "# n is the number of time shyam can predict his turn\n",
    "# 1<n<5\n",
    "# Input 1<=t<=13\n",
    "# 0 0 \n",
    "# 4 3\n",
    "# 2 5\n",
    "# 1 0\n",
    "\n",
    "# output = 7 \n",
    "# 3\n",
    "# 2\n",
    "# 6"
   ]
  },
  {
   "cell_type": "code",
   "execution_count": 47,
   "id": "f8f70caa",
   "metadata": {},
   "outputs": [
    {
     "name": "stdout",
     "output_type": "stream",
     "text": [
      "5\n",
      "0 0\n",
      "7\n",
      "2 5\n",
      "2\n",
      "6 7\n",
      "0\n",
      "2 2\n",
      "5\n",
      "1 4\n",
      "3\n"
     ]
    }
   ],
   "source": [
    "n = int(input())\n",
    "for i in range(1,n+1):\n",
    "    x,y = map(int, input().split())\n",
    "    if(x>y):\n",
    "        print(7-x)\n",
    "    else:\n",
    "        print(7-y)"
   ]
  },
  {
   "cell_type": "code",
   "execution_count": 48,
   "id": "56b62dda",
   "metadata": {},
   "outputs": [],
   "source": [
    "# Prime number using recursion\n",
    "\n",
    "# fibonaci series normally "
   ]
  },
  {
   "cell_type": "code",
   "execution_count": 57,
   "id": "1083962d",
   "metadata": {},
   "outputs": [
    {
     "name": "stdout",
     "output_type": "stream",
     "text": [
      "1 2 3 5 8 13 21 34 55 89 \n"
     ]
    }
   ],
   "source": [
    "n = 10\n",
    "num1 = 0\n",
    "num2 = 1\n",
    "next_number = num2 \n",
    "count = 1\n",
    "\n",
    "while count <= n:\n",
    "    print(next_number, end=\" \")\n",
    "    count += 1\n",
    "    num1, num2 = num2, next_number\n",
    "    next_number = num1 + num2\n",
    "print()\n"
   ]
  },
  {
   "cell_type": "code",
   "execution_count": 58,
   "id": "7cc00548",
   "metadata": {},
   "outputs": [
    {
     "name": "stdout",
     "output_type": "stream",
     "text": [
      "0\n",
      "1\n",
      "1\n",
      "2\n",
      "3\n"
     ]
    }
   ],
   "source": [
    "def fibonacci(n):\n",
    "    if (n==0):\n",
    "        return 0\n",
    "    if n<=1:\n",
    "        return n\n",
    "    else:\n",
    "        return fibonacci(n-2) + fibonacci(n-1)\n",
    "data = 5\n",
    "for i in range(data):\n",
    "    print(fibonacci(i))"
   ]
  },
  {
   "cell_type": "code",
   "execution_count": null,
   "id": "3849d35d",
   "metadata": {},
   "outputs": [],
   "source": [
    "find out wether the given two number is coprime or not\n",
    "find out the LCM of two numbers\n",
    "Find out the LCM of three numbers"
   ]
  }
 ],
 "metadata": {
  "kernelspec": {
   "display_name": "Python 3 (ipykernel)",
   "language": "python",
   "name": "python3"
  },
  "language_info": {
   "codemirror_mode": {
    "name": "ipython",
    "version": 3
   },
   "file_extension": ".py",
   "mimetype": "text/x-python",
   "name": "python",
   "nbconvert_exporter": "python",
   "pygments_lexer": "ipython3",
   "version": "3.11.4"
  }
 },
 "nbformat": 4,
 "nbformat_minor": 5
}
