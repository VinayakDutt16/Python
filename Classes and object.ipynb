{
 "cells": [
  {
   "cell_type": "code",
   "execution_count": 1,
   "id": "b36bd4a3",
   "metadata": {},
   "outputs": [],
   "source": [
    "# class is a collection of object\n",
    "\n",
    "# or\n",
    "\n",
    "# class is a blueprint of object\n",
    "\n",
    "\n",
    "# We use instace variable to change the varaible with situation --> to create them we use constructor"
   ]
  },
  {
   "cell_type": "code",
   "execution_count": 14,
   "id": "5d73dc37",
   "metadata": {},
   "outputs": [
    {
     "name": "stdout",
     "output_type": "stream",
     "text": [
      "Hey constructor is here to help\n"
     ]
    }
   ],
   "source": [
    "class House:\n",
    "    \n",
    "    def __init__(self):\n",
    "        print(\"Hey constructor is here to help\")\n",
    "        n_room = 10        # These are instance variables\n",
    "        color = \"white\"\n",
    "    \n",
    "    def roominfo(self):\n",
    "        print(\"This room is for tushar\")\n",
    "h1 = House()"
   ]
  },
  {
   "cell_type": "code",
   "execution_count": 11,
   "id": "b0d10de2",
   "metadata": {},
   "outputs": [
    {
     "name": "stdout",
     "output_type": "stream",
     "text": [
      "This room is for tushar\n"
     ]
    }
   ],
   "source": [
    "h1.roominfo()"
   ]
  },
  {
   "cell_type": "code",
   "execution_count": 5,
   "id": "8a89669b",
   "metadata": {},
   "outputs": [],
   "source": [
    "h2 = House()"
   ]
  },
  {
   "cell_type": "code",
   "execution_count": 8,
   "id": "eb74ac76",
   "metadata": {},
   "outputs": [
    {
     "data": {
      "text/plain": [
       "'white'"
      ]
     },
     "execution_count": 8,
     "metadata": {},
     "output_type": "execute_result"
    }
   ],
   "source": [
    "h2.color"
   ]
  },
  {
   "cell_type": "code",
   "execution_count": 15,
   "id": "56a99f4a",
   "metadata": {},
   "outputs": [
    {
     "name": "stdout",
     "output_type": "stream",
     "text": [
      "Hey constructor is here to help 100\n"
     ]
    }
   ],
   "source": [
    "class House:\n",
    "    \n",
    "    def __init__(self,num):              # Parameterized Constructor\n",
    "        print(\"Hey constructor is here to help\",num)\n",
    "        n_room = 10        # These are  variables\n",
    "        color = \"white\"\n",
    "    \n",
    "    def roominfo(self):\n",
    "        print(\"This room is for tushar\")\n",
    "h1 = House(100)"
   ]
  },
  {
   "cell_type": "code",
   "execution_count": 22,
   "id": "d2c4404b",
   "metadata": {},
   "outputs": [
    {
     "name": "stdout",
     "output_type": "stream",
     "text": [
      "100 red\n",
      "This room is for tushar color is red\n"
     ]
    }
   ],
   "source": [
    "class House:\n",
    "    \n",
    "    def __init__(self,num,colors):             \n",
    "        self.n_room = num     \n",
    "        self.color = colors       # These are instance variable --> Can be change as per the given input\n",
    "#         self.\n",
    "    def roominfo(self):\n",
    "        print(\"This room is for tushar color is\",self.color)\n",
    "h1 = House(100,'red')\n",
    "print(h1.n_room,h1.color)\n",
    "h1.roominfo()"
   ]
  },
  {
   "cell_type": "code",
   "execution_count": 19,
   "id": "6a87bfec",
   "metadata": {},
   "outputs": [
    {
     "name": "stdout",
     "output_type": "stream",
     "text": [
      "25 Blue\n"
     ]
    }
   ],
   "source": [
    "h2 = House(25,'Blue')\n",
    "print(h2.n_room,h2.color)"
   ]
  },
  {
   "cell_type": "code",
   "execution_count": 29,
   "id": "3ac8d477",
   "metadata": {},
   "outputs": [
    {
     "data": {
      "text/plain": [
       "2"
      ]
     },
     "execution_count": 29,
     "metadata": {},
     "output_type": "execute_result"
    }
   ],
   "source": [
    "# Single Level Inheritence\n",
    "\n",
    "class House:\n",
    "    def __init__(self, noRoom, color):\n",
    "        self.noRoom = noRoom\n",
    "        self.color = color\n",
    "        \n",
    "    def roominfo(self):\n",
    "        print(\"this room is for tushar color is \", self.color)\n",
    "        \n",
    "class newHouse(House):\n",
    "    def __init__(self, noRoom, color, parking):\n",
    "        super().__init__(noRoom, color)\n",
    "        self.parking = parking\n",
    "nh1 = newHouse(2,\"black\",True)\n",
    "nh1.noRoom"
   ]
  },
  {
   "cell_type": "code",
   "execution_count": 30,
   "id": "678a384b",
   "metadata": {},
   "outputs": [],
   "source": [
    "# MRO ===>> Method Resolution Order where we will be having two classe the access will go to fist class then left to right"
   ]
  },
  {
   "cell_type": "code",
   "execution_count": null,
   "id": "03fca3b8",
   "metadata": {},
   "outputs": [],
   "source": [
    "# Static method --> "
   ]
  },
  {
   "cell_type": "code",
   "execution_count": 37,
   "id": "e2d81155",
   "metadata": {},
   "outputs": [
    {
     "name": "stdout",
     "output_type": "stream",
     "text": [
      "hello user 30\n",
      "hello user 30\n"
     ]
    }
   ],
   "source": [
    "class employee:\n",
    "    company = 'regex'\n",
    "    @staticmethod   # Method bound to its classs\n",
    "    def info(x,y):\n",
    "        print(\"hello user\",x+y)\n",
    "        \n",
    "e1 = employee()\n",
    "employee.info(10,20)\n",
    "e1.info(10,20)"
   ]
  },
  {
   "cell_type": "code",
   "execution_count": null,
   "id": "0be6aa3b",
   "metadata": {},
   "outputs": [],
   "source": [
    "# Instance Method cannot be called by the class only instance variable and object can call it"
   ]
  },
  {
   "cell_type": "code",
   "execution_count": null,
   "id": "82930a55",
   "metadata": {},
   "outputs": [],
   "source": []
  }
 ],
 "metadata": {
  "kernelspec": {
   "display_name": "Python 3 (ipykernel)",
   "language": "python",
   "name": "python3"
  },
  "language_info": {
   "codemirror_mode": {
    "name": "ipython",
    "version": 3
   },
   "file_extension": ".py",
   "mimetype": "text/x-python",
   "name": "python",
   "nbconvert_exporter": "python",
   "pygments_lexer": "ipython3",
   "version": "3.11.4"
  }
 },
 "nbformat": 4,
 "nbformat_minor": 5
}
