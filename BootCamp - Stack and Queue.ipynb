{
 "cells": [
  {
   "cell_type": "markdown",
   "id": "0931b587",
   "metadata": {},
   "source": [
    "# Stack and Queue"
   ]
  },
  {
   "cell_type": "code",
   "execution_count": null,
   "id": "34577c72",
   "metadata": {},
   "outputs": [],
   "source": [
    "# Stack"
   ]
  },
  {
   "cell_type": "code",
   "execution_count": null,
   "id": "bcf8aa42",
   "metadata": {},
   "outputs": [],
   "source": [
    "li = ['(',')','{','}']\n",
    "for i in range(len(li)):\n",
    "    if li[i]== '(' and li[i+1] == ')':\n",
    "        print(\"True\")\n",
    "    elif li[i]=='{' and li[i+1] == '}':\n",
    "        print(\"True\")\n",
    "        "
   ]
  },
  {
   "cell_type": "code",
   "execution_count": 2,
   "id": "c93c45c1",
   "metadata": {},
   "outputs": [],
   "source": [
    "# first check in dictionary\n",
    "dict = { \"(\":\")\",\"{\":\"}\",\"[\":\"]\"}"
   ]
  },
  {
   "cell_type": "code",
   "execution_count": 3,
   "id": "27420384",
   "metadata": {},
   "outputs": [
    {
     "name": "stdout",
     "output_type": "stream",
     "text": [
      "{'(': ')', '{': '}', '[': ']'}\n"
     ]
    },
    {
     "data": {
      "text/plain": [
       "3"
      ]
     },
     "execution_count": 3,
     "metadata": {},
     "output_type": "execute_result"
    }
   ],
   "source": [
    "print(dict)\n",
    "len(dict)"
   ]
  },
  {
   "cell_type": "code",
   "execution_count": 18,
   "id": "f546ccc9",
   "metadata": {},
   "outputs": [
    {
     "name": "stdout",
     "output_type": "stream",
     "text": [
      "True\n",
      "True\n",
      "True\n"
     ]
    }
   ],
   "source": [
    "strr = \"[\"\n",
    "\n",
    "for j in range(len(dict)):\n",
    "    for i in strr:\n",
    "        if i in dict:\n",
    "            print(\"True\")\n",
    "            break\n",
    "        else:\n",
    "            print(\"Wrong!!!!\")\n",
    "            break"
   ]
  },
  {
   "cell_type": "code",
   "execution_count": 37,
   "id": "772ec25b",
   "metadata": {},
   "outputs": [
    {
     "name": "stdout",
     "output_type": "stream",
     "text": [
      "True\n",
      "False\n",
      "['(', '[']\n"
     ]
    }
   ],
   "source": [
    "mydict = {\"(\":\")\",\"{\":\"}\",\"[\":\"]\"}\n",
    "s = \"()[)\"\n",
    "list1=[]\n",
    "for char in s:\n",
    "    if char in mydict.keys():\n",
    "        list1.append(char)\n",
    "    elif char == \")\" and len(list1)!= 0 and list1[-1] == \"(\":\n",
    "        print(\"True\")\n",
    "    elif char ==\"}\" and len(list1) != 0 and list[-1] == \"{\":\n",
    "        print(\"True\")\n",
    "    elif char ==\"]\" and len(list1) != 0 and list[-1] == \"[\":\n",
    "        print(\"True\")\n",
    "    else:\n",
    "        print(\"False\")\n",
    "    \n",
    "print(list1) "
   ]
  },
  {
   "cell_type": "code",
   "execution_count": 39,
   "id": "da430400",
   "metadata": {},
   "outputs": [
    {
     "name": "stdout",
     "output_type": "stream",
     "text": [
      "False\n",
      "False\n",
      "['(', '[']\n"
     ]
    }
   ],
   "source": [
    "dict = {\")\":\"(\",\"}\":\"{\",\"]\":\"[\"}\n",
    "s = \"()[)\"\n",
    "list1=[]\n",
    "for char in s:\n",
    "    if char  not in dict.keys():\n",
    "        list1.append(char)\n",
    "    elif char != \")\" and len(list1)!= 0 and list1[-1] == \")\":\n",
    "        print(\"True\")\n",
    "    elif char !=\"}\" and len(list1) != 0 and list[-1] == \"}\":\n",
    "        print(\"True\")\n",
    "    elif char !=\"]\" and len(list1) != 0 and list[-1] == \"]\":\n",
    "        print(\"True\")\n",
    "    else:\n",
    "        print(\"False\")\n",
    "    \n",
    "print(list1) "
   ]
  },
  {
   "cell_type": "code",
   "execution_count": null,
   "id": "66988e69",
   "metadata": {},
   "outputs": [],
   "source": []
  }
 ],
 "metadata": {
  "kernelspec": {
   "display_name": "Python 3 (ipykernel)",
   "language": "python",
   "name": "python3"
  },
  "language_info": {
   "codemirror_mode": {
    "name": "ipython",
    "version": 3
   },
   "file_extension": ".py",
   "mimetype": "text/x-python",
   "name": "python",
   "nbconvert_exporter": "python",
   "pygments_lexer": "ipython3",
   "version": "3.11.4"
  }
 },
 "nbformat": 4,
 "nbformat_minor": 5
}
