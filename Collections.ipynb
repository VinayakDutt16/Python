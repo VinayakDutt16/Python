{
 "cells": [
  {
   "cell_type": "code",
   "execution_count": 2,
   "id": "5bfefaf7",
   "metadata": {},
   "outputs": [],
   "source": [
    "from collections import Counter #count no. if elements\n"
   ]
  },
  {
   "cell_type": "code",
   "execution_count": 3,
   "id": "9d44b8c0",
   "metadata": {},
   "outputs": [
    {
     "data": {
      "text/plain": [
       "Counter({10: 3, 20: 2, 30: 2, 40: 1, 50: 1})"
      ]
     },
     "execution_count": 3,
     "metadata": {},
     "output_type": "execute_result"
    }
   ],
   "source": [
    "Counter([10,10,10,20,20,30,30,40,50])"
   ]
  },
  {
   "cell_type": "code",
   "execution_count": 4,
   "id": "4bab39b0",
   "metadata": {},
   "outputs": [
    {
     "data": {
      "text/plain": [
       "Counter({'XYZ': 10, 'aBC': 20})"
      ]
     },
     "execution_count": 4,
     "metadata": {},
     "output_type": "execute_result"
    }
   ],
   "source": [
    "Counter(XYZ = 10, aBC = 20)"
   ]
  },
  {
   "cell_type": "code",
   "execution_count": 5,
   "id": "95980cc2",
   "metadata": {},
   "outputs": [],
   "source": [
    "from collections import Counter #count no. if elements\n",
    "\n",
    "count = Counter()\n",
    "\n",
    "count.update([10,20,30,10,10])"
   ]
  },
  {
   "cell_type": "code",
   "execution_count": 6,
   "id": "7a9fdfea",
   "metadata": {},
   "outputs": [
    {
     "data": {
      "text/plain": [
       "Counter({10: 3, 20: 1, 30: 1})"
      ]
     },
     "execution_count": 6,
     "metadata": {},
     "output_type": "execute_result"
    }
   ],
   "source": [
    "count"
   ]
  },
  {
   "cell_type": "code",
   "execution_count": 7,
   "id": "3cbd7815",
   "metadata": {},
   "outputs": [],
   "source": [
    "count.update({10:4})"
   ]
  },
  {
   "cell_type": "code",
   "execution_count": 8,
   "id": "33203763",
   "metadata": {},
   "outputs": [
    {
     "data": {
      "text/plain": [
       "Counter({10: 7, 20: 1, 30: 1})"
      ]
     },
     "execution_count": 8,
     "metadata": {},
     "output_type": "execute_result"
    }
   ],
   "source": [
    "count"
   ]
  },
  {
   "cell_type": "code",
   "execution_count": 9,
   "id": "026535ee",
   "metadata": {},
   "outputs": [],
   "source": [
    "count.subtract({10})"
   ]
  },
  {
   "cell_type": "code",
   "execution_count": 10,
   "id": "6c09564e",
   "metadata": {},
   "outputs": [
    {
     "data": {
      "text/plain": [
       "Counter({10: 6, 20: 1, 30: 1})"
      ]
     },
     "execution_count": 10,
     "metadata": {},
     "output_type": "execute_result"
    }
   ],
   "source": [
    "count"
   ]
  },
  {
   "cell_type": "code",
   "execution_count": 15,
   "id": "dd0e407a",
   "metadata": {},
   "outputs": [],
   "source": [
    "# orderd dictionary\n",
    "from collections import OrderedDict"
   ]
  },
  {
   "cell_type": "code",
   "execution_count": 14,
   "id": "2ab1272e",
   "metadata": {},
   "outputs": [
    {
     "data": {
      "text/plain": [
       "OrderedDict([('a', 1), ('b', 2)])"
      ]
     },
     "execution_count": 14,
     "metadata": {},
     "output_type": "execute_result"
    }
   ],
   "source": [
    "od = OrderedDict()\n",
    "od['a'] = 1\n",
    "od['b'] = 2\n",
    "\n",
    "od"
   ]
  },
  {
   "cell_type": "code",
   "execution_count": 16,
   "id": "eee8ca97",
   "metadata": {},
   "outputs": [],
   "source": [
    "from collections import defaultdict  # if the key doesn't exist it will return a default value"
   ]
  },
  {
   "cell_type": "code",
   "execution_count": 18,
   "id": "e10b90f7",
   "metadata": {},
   "outputs": [],
   "source": [
    "def func():\n",
    "    return 100\n",
    "\n",
    "default_dictionary = defaultdict( func)\n",
    "default_dictionary['a'] = 10\n"
   ]
  },
  {
   "cell_type": "code",
   "execution_count": 19,
   "id": "740f3fdc",
   "metadata": {},
   "outputs": [
    {
     "data": {
      "text/plain": [
       "defaultdict(<function __main__.func()>, {'a': 10})"
      ]
     },
     "execution_count": 19,
     "metadata": {},
     "output_type": "execute_result"
    }
   ],
   "source": [
    "default_dictionary "
   ]
  },
  {
   "cell_type": "code",
   "execution_count": 20,
   "id": "f5af09ac",
   "metadata": {},
   "outputs": [
    {
     "data": {
      "text/plain": [
       "10"
      ]
     },
     "execution_count": 20,
     "metadata": {},
     "output_type": "execute_result"
    }
   ],
   "source": [
    "default_dictionary['a']"
   ]
  },
  {
   "cell_type": "code",
   "execution_count": 21,
   "id": "07ed2adf",
   "metadata": {},
   "outputs": [],
   "source": [
    "# Named tuple it is of required type"
   ]
  },
  {
   "cell_type": "code",
   "execution_count": 24,
   "id": "d1d742c1",
   "metadata": {},
   "outputs": [],
   "source": [
    "from collections import namedtuple"
   ]
  },
  {
   "cell_type": "code",
   "execution_count": 26,
   "id": "78a32529",
   "metadata": {},
   "outputs": [],
   "source": [
    "nt_tuple = namedtuple(\"regex\", [\"name\",\"mail\",\"salary\"])"
   ]
  },
  {
   "cell_type": "code",
   "execution_count": 30,
   "id": "54d87062",
   "metadata": {},
   "outputs": [],
   "source": [
    "emp1 = nt_tuple(\"Vinayak\",\"Vinayak@gmail.com\",100000)"
   ]
  },
  {
   "cell_type": "code",
   "execution_count": 33,
   "id": "b127f507",
   "metadata": {
    "scrolled": true
   },
   "outputs": [
    {
     "data": {
      "text/plain": [
       "regex(name='Vinayak', mail='Vinayak@gmail.com', salary=100000)"
      ]
     },
     "execution_count": 33,
     "metadata": {},
     "output_type": "execute_result"
    }
   ],
   "source": [
    "emp1"
   ]
  },
  {
   "cell_type": "code",
   "execution_count": 34,
   "id": "2382a52a",
   "metadata": {},
   "outputs": [
    {
     "data": {
      "text/plain": [
       "'Vinayak'"
      ]
     },
     "execution_count": 34,
     "metadata": {},
     "output_type": "execute_result"
    }
   ],
   "source": [
    "emp1[0]"
   ]
  },
  {
   "cell_type": "code",
   "execution_count": 37,
   "id": "7db8cf86",
   "metadata": {},
   "outputs": [
    {
     "data": {
      "text/plain": [
       "'Vinayak'"
      ]
     },
     "execution_count": 37,
     "metadata": {},
     "output_type": "execute_result"
    }
   ],
   "source": [
    "emp1.name"
   ]
  },
  {
   "cell_type": "code",
   "execution_count": 40,
   "id": "ba92d49b",
   "metadata": {},
   "outputs": [
    {
     "data": {
      "text/plain": [
       "'shivam#gmail.com'"
      ]
     },
     "execution_count": 40,
     "metadata": {},
     "output_type": "execute_result"
    }
   ],
   "source": [
    "emp2 = nt_tuple._make([\"shivam\",\"shivam#gmail.com\",2000])\n",
    "emp2.mail"
   ]
  },
  {
   "cell_type": "code",
   "execution_count": 43,
   "id": "3d91a54e",
   "metadata": {},
   "outputs": [
    {
     "data": {
      "text/plain": [
       "'vin'"
      ]
     },
     "execution_count": 43,
     "metadata": {},
     "output_type": "execute_result"
    }
   ],
   "source": [
    "nt_tuple._make(['vin','vin16','100'])[0] # to make record directly"
   ]
  },
  {
   "cell_type": "code",
   "execution_count": 44,
   "id": "04262777",
   "metadata": {},
   "outputs": [
    {
     "data": {
      "text/plain": [
       "'vin'"
      ]
     },
     "execution_count": 44,
     "metadata": {},
     "output_type": "execute_result"
    }
   ],
   "source": [
    "nt_tuple._make(['vin','vin16','100']).name # to make record directly"
   ]
  },
  {
   "cell_type": "code",
   "execution_count": 46,
   "id": "bd52d9c9",
   "metadata": {},
   "outputs": [
    {
     "data": {
      "text/plain": [
       "{'name': 'shivam', 'mail': 'shivam#gmail.com', 'salary': 2000}"
      ]
     },
     "execution_count": 46,
     "metadata": {},
     "output_type": "execute_result"
    }
   ],
   "source": [
    "emp2._asdict()  # Give the result as dictionary"
   ]
  },
  {
   "cell_type": "code",
   "execution_count": 47,
   "id": "79cdadb3",
   "metadata": {},
   "outputs": [],
   "source": [
    "#Deque append and pop the data from both sides of container"
   ]
  },
  {
   "cell_type": "code",
   "execution_count": 48,
   "id": "bfa545f9",
   "metadata": {},
   "outputs": [],
   "source": [
    "from collections import deque"
   ]
  },
  {
   "cell_type": "code",
   "execution_count": 51,
   "id": "4e9cd29a",
   "metadata": {},
   "outputs": [],
   "source": [
    "d1 = deque([10,20,30,49])"
   ]
  },
  {
   "cell_type": "code",
   "execution_count": 52,
   "id": "5425d510",
   "metadata": {},
   "outputs": [],
   "source": [
    "d1.append(50)"
   ]
  },
  {
   "cell_type": "code",
   "execution_count": 53,
   "id": "8a9ba50b",
   "metadata": {},
   "outputs": [],
   "source": [
    "d1.appendleft(5)"
   ]
  },
  {
   "cell_type": "code",
   "execution_count": 54,
   "id": "45a726e4",
   "metadata": {},
   "outputs": [
    {
     "data": {
      "text/plain": [
       "deque([5, 10, 20, 30, 49, 50])"
      ]
     },
     "execution_count": 54,
     "metadata": {},
     "output_type": "execute_result"
    }
   ],
   "source": [
    "d1"
   ]
  },
  {
   "cell_type": "code",
   "execution_count": 55,
   "id": "5672ee63",
   "metadata": {},
   "outputs": [],
   "source": [
    "d1.insert(2,'abc')  # Insert the data in between of the deque"
   ]
  },
  {
   "cell_type": "code",
   "execution_count": 56,
   "id": "2d3a98bf",
   "metadata": {},
   "outputs": [
    {
     "data": {
      "text/plain": [
       "deque([5, 10, 'abc', 20, 30, 49, 50])"
      ]
     },
     "execution_count": 56,
     "metadata": {},
     "output_type": "execute_result"
    }
   ],
   "source": [
    "d1"
   ]
  },
  {
   "cell_type": "code",
   "execution_count": 57,
   "id": "01149f19",
   "metadata": {},
   "outputs": [
    {
     "data": {
      "text/plain": [
       "5"
      ]
     },
     "execution_count": 57,
     "metadata": {},
     "output_type": "execute_result"
    }
   ],
   "source": [
    "d1[0]"
   ]
  },
  {
   "cell_type": "code",
   "execution_count": null,
   "id": "cdc01241",
   "metadata": {},
   "outputs": [],
   "source": [
    "# Chain map and user string"
   ]
  }
 ],
 "metadata": {
  "kernelspec": {
   "display_name": "Python 3 (ipykernel)",
   "language": "python",
   "name": "python3"
  },
  "language_info": {
   "codemirror_mode": {
    "name": "ipython",
    "version": 3
   },
   "file_extension": ".py",
   "mimetype": "text/x-python",
   "name": "python",
   "nbconvert_exporter": "python",
   "pygments_lexer": "ipython3",
   "version": "3.11.4"
  }
 },
 "nbformat": 4,
 "nbformat_minor": 5
}
